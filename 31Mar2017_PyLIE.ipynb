{
 "cells": [
  {
   "cell_type": "code",
   "execution_count": 14,
   "metadata": {
    "collapsed": true,
    "slideshow": {
     "slide_type": "skip"
    }
   },
   "outputs": [],
   "source": [
    "import math"
   ]
  },
  {
   "cell_type": "markdown",
   "metadata": {
    "slideshow": {
     "slide_type": "slide"
    }
   },
   "source": [
    "## PyLIE: Classes\n",
    "### 31 March 2017"
   ]
  },
  {
   "cell_type": "markdown",
   "metadata": {
    "slideshow": {
     "slide_type": "slide"
    }
   },
   "source": [
    "### Code Review"
   ]
  },
  {
   "cell_type": "code",
   "execution_count": null,
   "metadata": {
    "collapsed": true,
    "hideOutput": true,
    "hidePrompt": true,
    "slideshow": {
     "slide_type": "fragment"
    }
   },
   "outputs": [],
   "source": [
    "class GaryTests(unittest.TestCase):\n",
    "\n",
    "    def setUp(self):\n",
    "        self.ex_cnr = read('formats/reference-tr.cnn')\n",
    "\n",
    "    def test_empty(self):\n",
    "        \"\"\"Instantiate from an empty file.\"\"\"\n",
    "        garr = tabio.read(\"formats/empty\")\n",
    "        self.assertEqual(len(garr), 0)\n",
    "\n",
    "    def test_iter(self):\n",
    "        \"\"\"Test iteration.\"\"\"\n",
    "        rows = iter(self.ex_cnr)\n",
    "        firstrow = next(rows)\n",
    "        self.assertEqual(tuple(firstrow), tuple(self.ex_cnr[0]))\n",
    "        i = 0\n",
    "        for i, _row in enumerate(rows):\n",
    "            pass\n",
    "        self.assertEqual(i + 2, len(self.ex_cnr))\n",
    "\n",
    "    def test_copy(self):\n",
    "        \"\"\"Test creation of an independent copy of the object.\"\"\"\n",
    "        dupe = self.ex_cnr.copy()\n",
    "        self.assertEqual(tuple(self.ex_cnr[3]), tuple(dupe[3]))\n",
    "        self.ex_cnr[3, 'log2'] = -10.0\n",
    "        self.assertNotEqual(tuple(self.ex_cnr[3]), tuple(dupe[3]))"
   ]
  },
  {
   "cell_type": "markdown",
   "metadata": {
    "slideshow": {
     "slide_type": "slide"
    }
   },
   "source": [
    "### What is a class?"
   ]
  },
  {
   "cell_type": "markdown",
   "metadata": {
    "slideshow": {
     "slide_type": "fragment"
    }
   },
   "source": [
    "#### A class is just like a function...a definition of something"
   ]
  },
  {
   "cell_type": "markdown",
   "metadata": {
    "slideshow": {
     "slide_type": "fragment"
    }
   },
   "source": [
    "Python is what is called an **object oriented language** (OOB). Everything you do in Python is an object...even *integers, strings, and operators*!<br><br>\n",
    "<center>\n",
    "<img align=\"center\" src=\"http://www.laurentluce.com/images/blog/intobject/2.png\">\n",
    "</center>"
   ]
  },
  {
   "cell_type": "markdown",
   "metadata": {
    "slideshow": {
     "slide_type": "fragment"
    }
   },
   "source": [
    "Even <u>functions</u> are objects."
   ]
  },
  {
   "cell_type": "markdown",
   "metadata": {
    "slideshow": {
     "slide_type": "slide"
    }
   },
   "source": [
    "# <center>Now, for an Inception moment</center>\n",
    "![](http://trentwalton.com/assets/uploads/2010/07/inception/inception_1920_1080.jpg)"
   ]
  },
  {
   "cell_type": "markdown",
   "metadata": {
    "slideshow": {
     "slide_type": "slide"
    }
   },
   "source": [
    "### An object can have object methods/functions as part of its definition\n",
    "*For example: `dict.items()`* <br><br>\n",
    "That means an object can be comprised of objects which are objects..."
   ]
  },
  {
   "cell_type": "markdown",
   "metadata": {
    "slideshow": {
     "slide_type": "slide"
    }
   },
   "source": [
    "## The Difference\n",
    "While **functions** define operations-**classes** define objects"
   ]
  },
  {
   "cell_type": "markdown",
   "metadata": {
    "slideshow": {
     "slide_type": "fragment"
    }
   },
   "source": [
    "There is a class that defines how dictionaries, integers, mupltiplication, everything works."
   ]
  },
  {
   "cell_type": "markdown",
   "metadata": {
    "slideshow": {
     "slide_type": "fragment"
    }
   },
   "source": [
    "Unlike Java (for those that have used it), most entry-level coders don't have to make custom classes."
   ]
  },
  {
   "cell_type": "markdown",
   "metadata": {
    "slideshow": {
     "slide_type": "slide"
    }
   },
   "source": [
    "## When and why to use classes?"
   ]
  },
  {
   "cell_type": "markdown",
   "metadata": {
    "slideshow": {
     "slide_type": "fragment"
    }
   },
   "source": [
    "Perform an operation?  **No**"
   ]
  },
  {
   "cell_type": "markdown",
   "metadata": {
    "slideshow": {
     "slide_type": "fragment"
    }
   },
   "source": [
    "Bunch of related operations?  ***Maybe not***, better to go with a module"
   ]
  },
  {
   "cell_type": "markdown",
   "metadata": {
    "slideshow": {
     "slide_type": "fragment"
    }
   },
   "source": [
    "Bunch of operations or attributes related to a similar data structure?  **Yes**"
   ]
  },
  {
   "cell_type": "markdown",
   "metadata": {
    "slideshow": {
     "slide_type": "fragment"
    }
   },
   "source": [
    "Bunch of functions that share state?  **Yes**"
   ]
  },
  {
   "cell_type": "markdown",
   "metadata": {
    "slideshow": {
     "slide_type": "fragment"
    }
   },
   "source": [
    "Add some functionality to an object? **Yes**"
   ]
  },
  {
   "cell_type": "markdown",
   "metadata": {
    "slideshow": {
     "slide_type": "slide"
    }
   },
   "source": [
    "### The point is to abstract away related concepts into a logical structure."
   ]
  },
  {
   "cell_type": "markdown",
   "metadata": {
    "slideshow": {
     "slide_type": "fragment"
    }
   },
   "source": [
    "This is why there is a `dict.items()` but not a `str.items()`. The functions related to that specific data structure are logically bundled together."
   ]
  },
  {
   "cell_type": "markdown",
   "metadata": {
    "slideshow": {
     "slide_type": "slide"
    }
   },
   "source": [
    "## Classic example"
   ]
  },
  {
   "cell_type": "markdown",
   "metadata": {
    "slideshow": {
     "slide_type": "fragment"
    }
   },
   "source": [
    "<center>\n",
    "<h2> Consider a square and a circle </h2>\n",
    "<img align=\"center\" src=\"https://digitalphotographyformoms.com/wp-content/uploads/2011/01/circle-square.jpg\">\n",
    "</center>"
   ]
  },
  {
   "cell_type": "markdown",
   "metadata": {
    "slideshow": {
     "slide_type": "fragment"
    }
   },
   "source": [
    "What do you need to define a *circle*?"
   ]
  },
  {
   "cell_type": "markdown",
   "metadata": {
    "slideshow": {
     "slide_type": "fragment"
    }
   },
   "source": [
    "If you answered a center and radius then you were right. What about an <u>equilateral</u> *square*?"
   ]
  },
  {
   "cell_type": "markdown",
   "metadata": {
    "slideshow": {
     "slide_type": "fragment"
    }
   },
   "source": [
    "But how could you define the ***superset*** of a circle and square?....a **Shape!**"
   ]
  },
  {
   "cell_type": "markdown",
   "metadata": {
    "slideshow": {
     "slide_type": "slide"
    }
   },
   "source": [
    "## Define the class"
   ]
  },
  {
   "cell_type": "code",
   "execution_count": 18,
   "metadata": {
    "collapsed": true,
    "hidePrompt": true,
    "slideshow": {
     "slide_type": "fragment"
    }
   },
   "outputs": [],
   "source": [
    "class Shape:\n",
    "     def __init__(self, pos_x, pos_y):\n",
    "         self.x = pos_x\n",
    "         self.y = pos_y\n",
    "     def area(self):\n",
    "         # Not implemented in abstract base class\n",
    "         pass"
   ]
  },
  {
   "cell_type": "markdown",
   "metadata": {
    "slideshow": {
     "slide_type": "slide"
    }
   },
   "source": [
    "## Define the shapes"
   ]
  },
  {
   "cell_type": "code",
   "execution_count": 16,
   "metadata": {
    "collapsed": true,
    "hidePrompt": true,
    "slideshow": {
     "slide_type": "fragment"
    }
   },
   "outputs": [],
   "source": [
    "class Circle(Shape):\n",
    "     def setRadius(self, r):\n",
    "         self.radius = r\n",
    "     def area(self):\n",
    "         return math.pi * self.radius * self.radius"
   ]
  },
  {
   "cell_type": "code",
   "execution_count": 17,
   "metadata": {
    "collapsed": true,
    "hidePrompt": true,
    "slideshow": {
     "slide_type": "fragment"
    }
   },
   "outputs": [],
   "source": [
    "class Square(Shape):\n",
    "     def setSide(self, s):\n",
    "         self.side = s\n",
    "     def area(self):\n",
    "         return self.side * self.side"
   ]
  },
  {
   "cell_type": "markdown",
   "metadata": {
    "slideshow": {
     "slide_type": "slide"
    }
   },
   "source": [
    "Now you can *instanstiate* a circle by calling the following:"
   ]
  },
  {
   "cell_type": "code",
   "execution_count": null,
   "metadata": {
    "collapsed": true,
    "hidePrompt": true,
    "slideshow": {
     "slide_type": "fragment"
    }
   },
   "outputs": [],
   "source": [
    "c1 = Circle(1, 4)\n",
    "c1.setRadius(5)"
   ]
  },
  {
   "cell_type": "markdown",
   "metadata": {
    "slideshow": {
     "slide_type": "slide"
    }
   },
   "source": [
    "## Conventions"
   ]
  },
  {
   "cell_type": "markdown",
   "metadata": {
    "slideshow": {
     "slide_type": "fragment"
    }
   },
   "source": [
    "Always use `self` for the first argument to <u>instance</u> methods.\n",
    "<br><br>\n",
    "Always use `cls` for the first argument to <u>class</u> methods. \n",
    "<br><br>\n",
    "If class/instance method overlaps with a reserved name, use a trailing underscore\n",
    "<br><br>\n",
    "For *example*:<br>\n",
    "````python\n",
    "def mean_( array_of_values ):\n",
    "    pass\n",
    "```"
   ]
  },
  {
   "cell_type": "markdown",
   "metadata": {
    "slideshow": {
     "slide_type": "slide"
    }
   },
   "source": [
    "#### I hope you have asked yourself what is the difference between an instance and class method"
   ]
  },
  {
   "cell_type": "markdown",
   "metadata": {
    "slideshow": {
     "slide_type": "fragment"
    }
   },
   "source": [
    "An **Instance method** is when an object uses some assinged attribute (or state) to perform a function."
   ]
  },
  {
   "cell_type": "code",
   "execution_count": 13,
   "metadata": {
    "hidePrompt": true,
    "slideshow": {
     "slide_type": "fragment"
    }
   },
   "outputs": [
    {
     "name": "stdout",
     "output_type": "stream",
     "text": [
      "Checker(word=Carl)\n"
     ]
    }
   ],
   "source": [
    "class Checker:\n",
    "    def __init__(self, word):\n",
    "        self.word = word\n",
    "        \n",
    "    def __repr__(self):\n",
    "        return f'Checker(word={self.word})'\n",
    "    \n",
    "\n",
    "a = Checker(\"Carl\")\n",
    "print(a)"
   ]
  },
  {
   "cell_type": "markdown",
   "metadata": {
    "slideshow": {
     "slide_type": "fragment"
    }
   },
   "source": [
    "Here the `__repr__()` method used the instance attribute `self.word` to represent the object."
   ]
  },
  {
   "cell_type": "markdown",
   "metadata": {
    "slideshow": {
     "slide_type": "slide"
    }
   },
   "source": [
    "A **Class method** is a little more esoteric. It is when a class passes the class itself to itself (*not* an instance of the class). A way of saying this is when you write `type(some_object)`, this will return what type of an object you passed to it."
   ]
  },
  {
   "cell_type": "markdown",
   "metadata": {
    "slideshow": {
     "slide_type": "slide"
    }
   },
   "source": [
    "## Inheritance "
   ]
  },
  {
   "cell_type": "markdown",
   "metadata": {
    "slideshow": {
     "slide_type": "fragment"
    }
   },
   "source": [
    "Simply put, inheritance is when a class *gets access* to some attributes from a super class."
   ]
  },
  {
   "cell_type": "markdown",
   "metadata": {
    "slideshow": {
     "slide_type": "fragment"
    }
   },
   "source": [
    "If you remember from our `Circle` and `Square` example, they both inherited `pos_x` and `pos_y` from the `Shape` class. This is done by declaring the inheritance in the definition."
   ]
  },
  {
   "cell_type": "markdown",
   "metadata": {
    "slideshow": {
     "slide_type": "slide"
    }
   },
   "source": [
    "## For Example"
   ]
  },
  {
   "cell_type": "code",
   "execution_count": 19,
   "metadata": {
    "collapsed": true,
    "hidePrompt": true,
    "slideshow": {
     "slide_type": "fragment"
    }
   },
   "outputs": [],
   "source": [
    "class LoggingDict(dict):\n",
    "    def __setitem__(self, key, value):\n",
    "        logging.info(f'Setting {key} to {value}')\n",
    "        super().__setitem__(key, value)"
   ]
  },
  {
   "cell_type": "markdown",
   "metadata": {
    "slideshow": {
     "slide_type": "fragment"
    }
   },
   "source": [
    "Here, `LoggingDict` can now use all the same methods as `dict` but creates a log of items changed or set"
   ]
  },
  {
   "cell_type": "markdown",
   "metadata": {
    "slideshow": {
     "slide_type": "fragment"
    }
   },
   "source": [
    "## Or"
   ]
  },
  {
   "cell_type": "code",
   "execution_count": 21,
   "metadata": {
    "hideOutput": true,
    "hidePrompt": true,
    "slideshow": {
     "slide_type": "fragment"
    }
   },
   "outputs": [
    {
     "ename": "NameError",
     "evalue": "name 'Pokemon' is not defined",
     "output_type": "error",
     "traceback": [
      "\u001b[0;31m---------------------------------------------------------------------------\u001b[0m",
      "\u001b[0;31mNameError\u001b[0m                                 Traceback (most recent call last)",
      "\u001b[0;32m<ipython-input-21-8e99f0158fed>\u001b[0m in \u001b[0;36m<module>\u001b[0;34m()\u001b[0m\n\u001b[0;32m----> 1\u001b[0;31m \u001b[1;32mclass\u001b[0m \u001b[0mPikachu\u001b[0m\u001b[1;33m(\u001b[0m\u001b[0mPokemon\u001b[0m\u001b[1;33m)\u001b[0m\u001b[1;33m:\u001b[0m\u001b[1;33m\u001b[0m\u001b[0m\n\u001b[0m\u001b[1;32m      2\u001b[0m \u001b[1;33m\u001b[0m\u001b[0m\n\u001b[1;32m      3\u001b[0m     \u001b[1;32mdef\u001b[0m \u001b[0m__init__\u001b[0m\u001b[1;33m(\u001b[0m\u001b[0mself\u001b[0m\u001b[1;33m,\u001b[0m \u001b[0mname\u001b[0m\u001b[1;33m,\u001b[0m \u001b[0mcatchable\u001b[0m\u001b[1;33m)\u001b[0m\u001b[1;33m:\u001b[0m\u001b[1;33m\u001b[0m\u001b[0m\n\u001b[1;32m      4\u001b[0m         \u001b[0mPet\u001b[0m\u001b[1;33m.\u001b[0m\u001b[0m__init__\u001b[0m\u001b[1;33m(\u001b[0m\u001b[0mself\u001b[0m\u001b[1;33m,\u001b[0m \u001b[0mname\u001b[0m\u001b[1;33m,\u001b[0m \u001b[1;34m\"Pikachu\"\u001b[0m\u001b[1;33m)\u001b[0m\u001b[1;33m\u001b[0m\u001b[0m\n\u001b[1;32m      5\u001b[0m         \u001b[0mself\u001b[0m\u001b[1;33m.\u001b[0m\u001b[0mcatchable\u001b[0m \u001b[1;33m=\u001b[0m \u001b[0mcatchable\u001b[0m\u001b[1;33m\u001b[0m\u001b[0m\n",
      "\u001b[0;31mNameError\u001b[0m: name 'Pokemon' is not defined"
     ]
    }
   ],
   "source": [
    "class Pikachu(Pokemon):\n",
    "\n",
    "    def __init__(self, name, catchable):\n",
    "        Pokemon.__init__(self, name, \"Pikachu\")\n",
    "        self.catchable = catchable\n",
    "\n",
    "    def Thunder(self):\n",
    "        damage = 100\n",
    "        return (self.level, damage)"
   ]
  },
  {
   "cell_type": "markdown",
   "metadata": {
    "slideshow": {
     "slide_type": "fragment"
    }
   },
   "source": [
    "Here `Pikachu` inherits the `self.level` attribute from the undefined `Pokemon` class and performs a `self.Thunder` method that attempts an attack move"
   ]
  },
  {
   "cell_type": "markdown",
   "metadata": {
    "slideshow": {
     "slide_type": "slide"
    }
   },
   "source": [
    "## Warm-up"
   ]
  },
  {
   "cell_type": "markdown",
   "metadata": {
    "slideshow": {
     "slide_type": "fragment"
    }
   },
   "source": [
    "### On your own...\n",
    "1. Make a class that defines `Person` with the attributes `name` and `age` that when called with `print()` will return `Person(name=<str>, age=<int>)`\n",
    "2. Make a class that defines `Student` that inherits from `Person` and assigns the attributes `field` and `yos` (years of study)"
   ]
  },
  {
   "cell_type": "code",
   "execution_count": null,
   "metadata": {
    "collapsed": true,
    "hidePrompt": true,
    "slideshow": {
     "slide_type": "slide"
    }
   },
   "outputs": [],
   "source": [
    "class Pet(object):\n",
    "\n",
    "    def __init__(self, name, species):\n",
    "        self.name = name\n",
    "        self.species = species\n",
    "\n",
    "    def getName(self):\n",
    "        return self.name\n",
    "\n",
    "    def getSpecies(self):\n",
    "        return self.species\n",
    "\n",
    "    def __str__(self):\n",
    "        return \"%s is a %s\" % (self.name, self.species)\n",
    "\n",
    "\n",
    "class Dog(Pet):\n",
    "\n",
    "    def __init__(self, name, chases_cats):\n",
    "        Pet.__init__(self, name, \"Dog\")\n",
    "        self.chases_cats = chases_cats\n",
    "\n",
    "    def chasesCats(self):\n",
    "        return self.chases_cats\n"
   ]
  },
  {
   "cell_type": "markdown",
   "metadata": {
    "slideshow": {
     "slide_type": "slide"
    }
   },
   "source": [
    "## Workshop"
   ]
  },
  {
   "cell_type": "markdown",
   "metadata": {
    "slideshow": {
     "slide_type": "fragment"
    }
   },
   "source": [
    "1. Group up into pairs\n",
    "2. Write a class that defines a `Codon` that has the attributes `seq` and `aa`\n",
    "3. Write a class that defines a `Variant` that inherits from `Codon` but adds the attributes `snp`, `position`, and `aa_new`\n",
    "4. Make a list of all possible canonical codons\n",
    "5. By random sampling, compile a list of 1000 codons\n",
    "6. Using an indicator function and a random number generator, insert 250 random `Variants` into the list\n",
    "7. Using random sampling, pull out 200 items from the list\n",
    "8. Report the ratio of variants in the sequence\n",
    "9. [BLAST](https://blast.ncbi.nlm.nih.gov/Blast.cgi?PAGE=Proteins) the aa sequence of your selection (for fun)"
   ]
  },
  {
   "cell_type": "markdown",
   "metadata": {
    "slideshow": {
     "slide_type": "slide"
    }
   },
   "source": [
    "## Critical Thinking"
   ]
  },
  {
   "cell_type": "markdown",
   "metadata": {
    "slideshow": {
     "slide_type": "fragment"
    }
   },
   "source": [
    "If *Nature* accepted your paper, but said that there can't be two co-authors, and there is only a bent & biased coin to flip, how would you make a **fair** but **random** decision as to who gets to be first author? <br><br>"
   ]
  },
  {
   "cell_type": "markdown",
   "metadata": {
    "slideshow": {
     "slide_type": "slide"
    }
   },
   "source": [
    "### Last meeting's answer:\n",
    "can be found [here](http://mathforum.org/library/drmath/view/56240.html)"
   ]
  }
 ],
 "metadata": {
  "celltoolbar": "Hide code",
  "kernelspec": {
   "display_name": "Python 3",
   "language": "python",
   "name": "python3"
  },
  "language_info": {
   "codemirror_mode": {
    "name": "ipython",
    "version": 3
   },
   "file_extension": ".py",
   "mimetype": "text/x-python",
   "name": "python",
   "nbconvert_exporter": "python",
   "pygments_lexer": "ipython3",
   "version": "3.6.1"
  }
 },
 "nbformat": 4,
 "nbformat_minor": 2
}
