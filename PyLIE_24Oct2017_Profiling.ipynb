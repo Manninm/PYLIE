{
 "cells": [
  {
   "cell_type": "markdown",
   "metadata": {
    "hideCode": false,
    "hidePrompt": false,
    "slideshow": {
     "slide_type": "slide"
    }
   },
   "source": [
    "# PyLIE: Profiling\n",
    "### 24 October 2017"
   ]
  },
  {
   "cell_type": "markdown",
   "metadata": {
    "hideCode": false,
    "hidePrompt": false,
    "slideshow": {
     "slide_type": "slide"
    }
   },
   "source": [
    "## What is profiling?"
   ]
  },
  {
   "cell_type": "markdown",
   "metadata": {
    "hideCode": false,
    "hidePrompt": false,
    "slideshow": {
     "slide_type": "fragment"
    }
   },
   "source": [
    "Whether or not the profiler is *deterministic* or *statistical*, a profile is a set of statistics that describes how often and for how long various parts of the program executed."
   ]
  },
  {
   "cell_type": "markdown",
   "metadata": {
    "hideCode": false,
    "hidePrompt": false,
    "slideshow": {
     "slide_type": "fragment"
    }
   },
   "source": [
    "Within the standard library is the `cProfile` and `Profile` modules that are native *deterministic* profilers. The key difference between the two are the code base implementations: C and Python (respectively)."
   ]
  },
  {
   "cell_type": "markdown",
   "metadata": {
    "hideCode": false,
    "hideOutput": true,
    "hidePrompt": false,
    "slideshow": {
     "slide_type": "fragment"
    }
   },
   "source": [
    "For the sake of this presentation, we will only be considering *determinisitic* profilers, although there are 3rd-party libraries out there for *statistical* profiling, such as [`statprof`](https://pypi.python.org/pypi/statprof/0.1.2) and [`pprofile`](https://github.com/vpelletier/pprofile)"
   ]
  },
  {
   "cell_type": "markdown",
   "metadata": {
    "hideCode": false,
    "hidePrompt": false,
    "slideshow": {
     "slide_type": "slide"
    }
   },
   "source": [
    "## Profiling allows us to measure resources used by sections of the program. "
   ]
  },
  {
   "cell_type": "markdown",
   "metadata": {
    "hideCode": false,
    "hidePrompt": false,
    "slideshow": {
     "slide_type": "fragment"
    }
   },
   "source": [
    "Typical resources of interest are\n",
    "* Amount of CPU used  **&larr; our main objective**\n",
    "* Amount of RAM used\n",
    "* Disk I/O\n",
    "* Network I/O\n",
    "* ..."
   ]
  },
  {
   "cell_type": "markdown",
   "metadata": {
    "hideCode": false,
    "hidePrompt": false,
    "slideshow": {
     "slide_type": "slide"
    }
   },
   "source": [
    "# The Golden Rule of Programming"
   ]
  },
  {
   "cell_type": "markdown",
   "metadata": {
    "hideCode": false,
    "hidePrompt": false,
    "slideshow": {
     "slide_type": "fragment"
    }
   },
   "source": [
    "“First make it work. Then make it right. Then make it fast.” -Kent Beck"
   ]
  },
  {
   "cell_type": "markdown",
   "metadata": {
    "hideCode": false,
    "hidePrompt": false,
    "slideshow": {
     "slide_type": "fragment"
    }
   },
   "source": [
    "Start simple, switch to more complex techniques if needed!<br><br>\n",
    "If anybody has every tried to optimize their code, they have probably heard the phrase \"Optimize LAST!\" The reason this is said is because optimizing is expensive, with many degrees of diminishing returns."
   ]
  },
  {
   "cell_type": "markdown",
   "metadata": {
    "hideCode": false,
    "hidePrompt": false,
    "slideshow": {
     "slide_type": "fragment"
    }
   },
   "source": [
    "**Profiling** allows one to get the most out of your optimizations."
   ]
  },
  {
   "cell_type": "markdown",
   "metadata": {
    "hideCode": false,
    "hidePrompt": false,
    "slideshow": {
     "slide_type": "fragment"
    }
   },
   "source": [
    "Which, inherently, means that you will *not* be optimizing everything."
   ]
  },
  {
   "cell_type": "markdown",
   "metadata": {
    "hideCode": false,
    "hidePrompt": false,
    "slideshow": {
     "slide_type": "fragment"
    }
   },
   "source": [
    "Techniques for measuring CPU time:\n",
    "1. Manual timeing\n",
    "2. `timeit` module\n",
    "3. `profile` or `cprofile` modules"
   ]
  },
  {
   "cell_type": "markdown",
   "metadata": {
    "hideCode": false,
    "hidePrompt": false,
    "slideshow": {
     "slide_type": "slide"
    }
   },
   "source": [
    "## Case study: filling a grid with point values"
   ]
  },
  {
   "cell_type": "markdown",
   "metadata": {
    "hideCode": false,
    "hidePrompt": false,
    "slideshow": {
     "slide_type": "fragment"
    }
   },
   "source": [
    "* Consider a rectangular 2D grid"
   ]
  },
  {
   "cell_type": "markdown",
   "metadata": {
    "hideCode": false,
    "hidePrompt": false,
    "slideshow": {
     "slide_type": "fragment"
    }
   },
   "source": [
    " <img src=\"https://github.com/betteridiot/PYLIE/blob/master/utility_scripts/grid.png?raw=true\" width=\"150\" height=\"150\">\n",
    "* A NumPy array `a[i,j]` holds values at the grid points"
   ]
  },
  {
   "cell_type": "markdown",
   "metadata": {
    "hideCode": false,
    "hidePrompt": false,
    "slideshow": {
     "slide_type": "slide"
    }
   },
   "source": [
    "# An implementation"
   ]
  },
  {
   "cell_type": "code",
   "execution_count": 1,
   "metadata": {
    "collapsed": true,
    "hideCode": false,
    "hidePrompt": false,
    "slideshow": {
     "slide_type": "-"
    }
   },
   "outputs": [],
   "source": [
    "import numpy as np\n",
    "\n",
    "class Grid2D(object):\n",
    "    def __init__(self,\n",
    "                 xmin=0, xmax=1, dx=0.5,\n",
    "                 ymin=0, ymax=1, dy=0.5):\n",
    "        \n",
    "        self.xcoor = np.arange(xmin, xmax+dx, step=dx)\n",
    "        self.ycoor = np.arange(ymin, ymax+dy, step=dy)\n",
    "\n",
    "    def gridloop(self, f):\n",
    "        lx = np.size(self.xcoor)\n",
    "        ly = np.size(self.ycoor)\n",
    "        a = np.zeros((lx,ly))\n",
    "\n",
    "        for i in range(lx):\n",
    "            x = self.xcoor[i]\n",
    "            for j in range(ly):\n",
    "                y = self.ycoor[j]\n",
    "                a[i,j] = f(x, y)\n",
    "        return a"
   ]
  },
  {
   "cell_type": "markdown",
   "metadata": {
    "hideCode": false,
    "hidePrompt": false,
    "slideshow": {
     "slide_type": "subslide"
    }
   },
   "source": [
    "# Usage"
   ]
  },
  {
   "cell_type": "markdown",
   "metadata": {
    "hideCode": false,
    "hidePrompt": false,
    "slideshow": {
     "slide_type": "fragment"
    }
   },
   "source": [
    "Create a new grid:"
   ]
  },
  {
   "cell_type": "code",
   "execution_count": 2,
   "metadata": {
    "collapsed": true,
    "hideCode": false,
    "hidePrompt": false,
    "slideshow": {
     "slide_type": "-"
    }
   },
   "outputs": [],
   "source": [
    "g = Grid2D(dx=0.001, dy=0.001)"
   ]
  },
  {
   "cell_type": "markdown",
   "metadata": {
    "hideCode": false,
    "hidePrompt": false,
    "slideshow": {
     "slide_type": "fragment"
    }
   },
   "source": [
    "Computing grid values:"
   ]
  },
  {
   "cell_type": "code",
   "execution_count": 3,
   "metadata": {
    "hideCode": false,
    "hidePrompt": false,
    "slideshow": {
     "slide_type": "-"
    }
   },
   "outputs": [
    {
     "name": "stdout",
     "output_type": "stream",
     "text": [
      "Computing values...\n",
      "done\n"
     ]
    }
   ],
   "source": [
    "import numpy as np\n",
    "\n",
    "def myfunc(x, y):\n",
    "    return np.sin(x*y) + y\n",
    "\n",
    "print(\"Computing values...\")\n",
    "a = g.gridloop(myfunc)\n",
    "print(\"done\")"
   ]
  },
  {
   "cell_type": "markdown",
   "metadata": {
    "hideCode": false,
    "hidePrompt": false,
    "slideshow": {
     "slide_type": "subslide"
    }
   },
   "source": [
    "Getting grid values at a specific point:"
   ]
  },
  {
   "cell_type": "code",
   "execution_count": 4,
   "metadata": {
    "hideCode": false,
    "hidePrompt": false,
    "slideshow": {
     "slide_type": "-"
    }
   },
   "outputs": [
    {
     "name": "stdout",
     "output_type": "stream",
     "text": [
      "value at (1.0, 1.0) is 1.8414709848078965\n"
     ]
    }
   ],
   "source": [
    "i=1000\n",
    "j=1000\n",
    "print(f'value at ({g.xcoor[i]}, {g.ycoor[j]}) is {a[i,j]}')"
   ]
  },
  {
   "cell_type": "markdown",
   "metadata": {
    "hideCode": false,
    "hidePrompt": false,
    "slideshow": {
     "slide_type": "slide"
    }
   },
   "source": [
    "# Timing"
   ]
  },
  {
   "cell_type": "markdown",
   "metadata": {
    "hideCode": false,
    "hidePrompt": false,
    "slideshow": {
     "slide_type": "fragment"
    }
   },
   "source": [
    "Use `time.time()` to measure the time spend in a code section.\n",
    "  ```python\n",
    "  t0 = time.time()\n",
    "  # execute code here\n",
    "  t1 = time.time()\n",
    "  print(f'Runtime: {t1-t0}')\n",
    "  ```\n",
    "  "
   ]
  },
  {
   "cell_type": "markdown",
   "metadata": {
    "hideCode": false,
    "hidePrompt": false,
    "slideshow": {
     "slide_type": "fragment"
    }
   },
   "source": [
    "* Simple statements should be placed in a loop.\n",
    "* Make sure to use a constant machine load.\n",
    "* Run the tests several times, choose the fastest."
   ]
  },
  {
   "cell_type": "markdown",
   "metadata": {
    "hideCode": false,
    "hidePrompt": false,
    "slideshow": {
     "slide_type": "fragment"
    }
   },
   "source": [
    "*Note*: `time.time` measures wall clock time. Use `time.clock()` to measure CPU time."
   ]
  },
  {
   "cell_type": "markdown",
   "metadata": {
    "hideCode": false,
    "hidePrompt": false,
    "slideshow": {
     "slide_type": "subslide"
    }
   },
   "source": [
    "## Timing of the case study"
   ]
  },
  {
   "cell_type": "markdown",
   "metadata": {
    "hideCode": false,
    "hidePrompt": false,
    "slideshow": {
     "slide_type": "fragment"
    }
   },
   "source": [
    "The case study has two parts that could potentially be slow: \n",
    "1. The initialisation `Grid2D(dx=0.001, dy=0.001)`\n",
    "2. Calling the `g.gridloop(myfunc)` function."
   ]
  },
  {
   "cell_type": "markdown",
   "metadata": {
    "hideCode": false,
    "hidePrompt": false,
    "slideshow": {
     "slide_type": "fragment"
    }
   },
   "source": [
    "We time these two parts separately to figure out how much time is spend in each."
   ]
  },
  {
   "cell_type": "markdown",
   "metadata": {
    "hideCode": false,
    "hidePrompt": false,
    "slideshow": {
     "slide_type": "subslide"
    }
   },
   "source": [
    "### Timing the Grid2D initialization"
   ]
  },
  {
   "cell_type": "code",
   "execution_count": 5,
   "metadata": {
    "hideCode": false,
    "hidePrompt": false,
    "slideshow": {
     "slide_type": "-"
    }
   },
   "outputs": [
    {
     "name": "stdout",
     "output_type": "stream",
     "text": [
      "Experiment 1, CPU time: 0.0 s\n",
      "Experiment 2, CPU time: 0.0 s\n",
      "Experiment 3, CPU time: 0.0 s\n",
      "Done\n"
     ]
    }
   ],
   "source": [
    "import time\n",
    "\n",
    "for i in range(1, 4):\n",
    "    t0 = time.time()\n",
    "    g = Grid2D(dx=0.001, dy=0.001)\n",
    "    t1 = time.time()\n",
    "    print(f'Experiment {i}, CPU time: {t1-t0:.4} s')\n",
    "print(\"Done\")"
   ]
  },
  {
   "cell_type": "markdown",
   "metadata": {
    "hideCode": false,
    "hidePrompt": false,
    "slideshow": {
     "slide_type": "subslide"
    }
   },
   "source": [
    "### Timing the `gridloop` function"
   ]
  },
  {
   "cell_type": "code",
   "execution_count": 6,
   "metadata": {
    "hideCode": false,
    "hidePrompt": false
   },
   "outputs": [
    {
     "name": "stdout",
     "output_type": "stream",
     "text": [
      "Experiment 1. CPU time: 1.396 s\n",
      "Experiment 2. CPU time: 1.402 s\n",
      "Experiment 3. CPU time: 1.407 s\n",
      "Done\n"
     ]
    }
   ],
   "source": [
    "import time\n",
    "\n",
    "for i in range(1, 4):\n",
    "    t0 = time.time()\n",
    "    g.gridloop(myfunc)\n",
    "    t1 = time.time()\n",
    "    print(f'Experiment {i}. CPU time: {t1-t0:.4} s')\n",
    "print(\"Done\")"
   ]
  },
  {
   "cell_type": "markdown",
   "metadata": {
    "hideCode": false,
    "hidePrompt": false,
    "slideshow": {
     "slide_type": "fragment"
    }
   },
   "source": [
    "$=>$ The gridloop function is the cause of the slow execution!"
   ]
  },
  {
   "cell_type": "markdown",
   "metadata": {
    "hideCode": false,
    "hidePrompt": false,
    "slideshow": {
     "slide_type": "slide"
    }
   },
   "source": [
    "# The *timeit* module"
   ]
  },
  {
   "cell_type": "markdown",
   "metadata": {
    "hideCode": false,
    "hidePrompt": false,
    "slideshow": {
     "slide_type": "subslide"
    }
   },
   "source": [
    "## The *timeit* module (1)\n",
    "\n",
    "The `timeit` module provides an convienient way for measuring the CPU time of small code snippets."
   ]
  },
  {
   "cell_type": "markdown",
   "metadata": {
    "hideCode": false,
    "hidePrompt": false,
    "slideshow": {
     "slide_type": "fragment"
    }
   },
   "source": [
    "Usage:"
   ]
  },
  {
   "cell_type": "code",
   "execution_count": 7,
   "metadata": {
    "hideCode": false,
    "hidePrompt": false
   },
   "outputs": [
    {
     "data": {
      "text/plain": [
       "0.043990123456790126"
      ]
     },
     "execution_count": 7,
     "metadata": {},
     "output_type": "execute_result"
    }
   ],
   "source": [
    "import timeit\n",
    "\n",
    "timeit.timeit(stmt=\"a+=1\",setup=\"a=0\")"
   ]
  },
  {
   "cell_type": "markdown",
   "metadata": {
    "hideCode": false,
    "hidePrompt": false,
    "slideshow": {
     "slide_type": "fragment"
    }
   },
   "source": [
    "Adding the `number` keyword executes the statement multiple times and returns the **accumulated** runtime:"
   ]
  },
  {
   "cell_type": "code",
   "execution_count": 8,
   "metadata": {
    "hideCode": false,
    "hidePrompt": false
   },
   "outputs": [
    {
     "data": {
      "text/plain": [
       "0.00047920987654320735"
      ]
     },
     "execution_count": 8,
     "metadata": {},
     "output_type": "execute_result"
    }
   ],
   "source": [
    "timeit.timeit(stmt=\"a+=1\",setup=\"a=0\", number=10000)"
   ]
  },
  {
   "cell_type": "markdown",
   "metadata": {
    "hideCode": false,
    "hidePrompt": false,
    "slideshow": {
     "slide_type": "fragment"
    }
   },
   "source": [
    "Use `timeit.repeat` if you would like to repeat the experiment multiple times:"
   ]
  },
  {
   "cell_type": "code",
   "execution_count": 9,
   "metadata": {
    "hideCode": false,
    "hidePrompt": false
   },
   "outputs": [
    {
     "data": {
      "text/plain": [
       "[0.0003911111111110921,\n",
       " 0.0003535802469135929,\n",
       " 0.00035358024691356515,\n",
       " 0.0003879506172839442,\n",
       " 0.0003531851851851786]"
      ]
     },
     "execution_count": 9,
     "metadata": {},
     "output_type": "execute_result"
    }
   ],
   "source": [
    "timeit.repeat(stmt=\"a+=1\",setup=\"a=0\", number=10000, repeat=5)"
   ]
  },
  {
   "cell_type": "markdown",
   "metadata": {
    "hideCode": false,
    "hidePrompt": false,
    "slideshow": {
     "slide_type": "subslide"
    }
   },
   "source": [
    "## The *timeit* module (2)\n",
    "\n",
    "* Automatically wraps the code in a for - loop."
   ]
  },
  {
   "cell_type": "markdown",
   "metadata": {
    "hideCode": false,
    "hidePrompt": false,
    "slideshow": {
     "slide_type": "fragment"
    }
   },
   "source": [
    "* Users can provide their own timer (callback):"
   ]
  },
  {
   "cell_type": "code",
   "execution_count": 10,
   "metadata": {
    "hideCode": false,
    "hidePrompt": false
   },
   "outputs": [
    {
     "data": {
      "text/plain": [
       "1.0003070831298828"
      ]
     },
     "execution_count": 10,
     "metadata": {},
     "output_type": "execute_result"
    }
   ],
   "source": [
    "timeit.timeit(stmt=\"sleep(1)\", setup=\"from time import sleep\", number=1, timer=time.time)  # Wall-clock time"
   ]
  },
  {
   "cell_type": "code",
   "execution_count": 11,
   "metadata": {
    "hideCode": false,
    "hidePrompt": false,
    "slideshow": {
     "slide_type": "fragment"
    }
   },
   "outputs": [
    {
     "data": {
      "text/plain": [
       "1.000513975308642"
      ]
     },
     "execution_count": 11,
     "metadata": {},
     "output_type": "execute_result"
    }
   ],
   "source": [
    "timeit.timeit(stmt=\"sleep(1)\", setup=\"from time import sleep\", number=1, timer=time.clock)  # CPU time"
   ]
  },
  {
   "cell_type": "markdown",
   "metadata": {
    "hideCode": false,
    "hidePrompt": false,
    "slideshow": {
     "slide_type": "fragment"
    }
   },
   "source": [
    "* Isolates the global namespace."
   ]
  },
  {
   "cell_type": "markdown",
   "metadata": {
    "hideCode": false,
    "hidePrompt": false,
    "slideshow": {
     "slide_type": "fragment"
    }
   },
   "source": [
    "* Time a user defined function:"
   ]
  },
  {
   "cell_type": "code",
   "execution_count": 12,
   "metadata": {
    "hideCode": false,
    "hidePrompt": false
   },
   "outputs": [
    {
     "data": {
      "text/plain": [
       "[1.445409975308642,\n",
       " 1.3984521481481478,\n",
       " 1.416994765432099,\n",
       " 1.3641730370370366,\n",
       " 1.41162074074074]"
      ]
     },
     "execution_count": 12,
     "metadata": {},
     "output_type": "execute_result"
    }
   ],
   "source": [
    "timeit.repeat(stmt=\"g.gridloop(myfunc)\", setup=\"from __main__  import g, myfunc\", repeat=5, number=1)"
   ]
  },
  {
   "cell_type": "markdown",
   "metadata": {
    "hideCode": false,
    "hidePrompt": false,
    "slideshow": {
     "slide_type": "subslide"
    }
   },
   "source": [
    "## Using the `cProfile` module"
   ]
  },
  {
   "cell_type": "markdown",
   "metadata": {
    "hideCode": false,
    "hidePrompt": false
   },
   "source": [
    "* As a script: `python -m cProfile script.py`"
   ]
  },
  {
   "cell_type": "markdown",
   "metadata": {
    "hideCode": false,
    "hidePrompt": false,
    "slideshow": {
     "slide_type": "fragment"
    }
   },
   "source": [
    "* As a module:"
   ]
  },
  {
   "cell_type": "code",
   "execution_count": 13,
   "metadata": {
    "collapsed": true,
    "hideCode": false,
    "hidePrompt": false
   },
   "outputs": [],
   "source": [
    "import cProfile\n",
    "\n",
    "pr = cProfile.Profile()\n",
    "res = pr.run(\"g.gridloop(myfunc)\")\n",
    "pr.dump_stats(\"gridloop.prof\")  # Dump statistics to file for use with pstats"
   ]
  },
  {
   "cell_type": "markdown",
   "metadata": {
    "hideCode": false,
    "hidePrompt": false,
    "slideshow": {
     "slide_type": "subslide"
    }
   },
   "source": [
    "## CAVEAT: Calibrate `profile` (not `cProfile`) to avoid measuring CPU overhead\n",
    "### since the `profile` module is pure Python based"
   ]
  },
  {
   "cell_type": "markdown",
   "metadata": {
    "hideCode": false,
    "hidePrompt": false
   },
   "source": [
    "The `profile` module needs to compensate for CPU overhead caused by internal Python function calls:"
   ]
  },
  {
   "cell_type": "markdown",
   "metadata": {
    "hideCode": false,
    "hidePrompt": false,
    "slideshow": {
     "slide_type": "fragment"
    }
   },
   "source": [
    "   1. Find the profiling overhead: \n",
    "     ```python\n",
    "     overhead = pr.calibrate(number)\n",
    "     ```\n",
    "   2. Remove profiling overhead:\n",
    "      ```python\n",
    "      pr = profile.Profile(bias=overhead)\n",
    "      ```"
   ]
  },
  {
   "cell_type": "markdown",
   "metadata": {
    "hideCode": false,
    "hidePrompt": false,
    "slideshow": {
     "slide_type": "subslide"
    }
   },
   "source": [
    "## Profile a function call while keeping its return value"
   ]
  },
  {
   "cell_type": "markdown",
   "metadata": {
    "hideCode": false,
    "hidePrompt": false,
    "slideshow": {
     "slide_type": "-"
    }
   },
   "source": [
    "```python\n",
    "pr = cProfile.Profile()\n",
    "retval = pr.runcall(func, *args, **kwargs)\n",
    "```"
   ]
  },
  {
   "cell_type": "markdown",
   "metadata": {
    "hideCode": false,
    "hidePrompt": false,
    "slideshow": {
     "slide_type": "subslide"
    }
   },
   "source": [
    "## Getting runtime statistics"
   ]
  },
  {
   "cell_type": "markdown",
   "metadata": {
    "hideCode": false,
    "hidePrompt": false
   },
   "source": [
    "* We can view some runtime statistics with"
   ]
  },
  {
   "cell_type": "code",
   "execution_count": 14,
   "metadata": {
    "hideCode": false,
    "hidePrompt": false
   },
   "outputs": [
    {
     "name": "stdout",
     "output_type": "stream",
     "text": [
      "         1002008 function calls in 1.455 seconds\n",
      "\n",
      "   Ordered by: standard name\n",
      "\n",
      "   ncalls  tottime  percall  cumtime  percall filename:lineno(function)\n",
      "        1    0.440    0.440    1.454    1.454 <ipython-input-1-71de986e1b39>:11(gridloop)\n",
      "  1002001    1.014    0.000    1.014    0.000 <ipython-input-3-7caea7fc4350>:3(myfunc)\n",
      "        1    0.001    0.001    1.455    1.455 <string>:1(<module>)\n",
      "        2    0.000    0.000    0.000    0.000 fromnumeric.py:2657(size)\n",
      "        1    0.000    0.000    1.455    1.455 {built-in method builtins.exec}\n",
      "        1    0.000    0.000    0.000    0.000 {built-in method numpy.core.multiarray.zeros}\n",
      "        1    0.000    0.000    0.000    0.000 {method 'disable' of '_lsprof.Profiler' objects}\n",
      "\n",
      "\n"
     ]
    }
   ],
   "source": [
    "res.print_stats()"
   ]
  },
  {
   "cell_type": "markdown",
   "metadata": {
    "hideCode": false,
    "hidePrompt": false,
    "slideshow": {
     "slide_type": "subslide"
    }
   },
   "source": [
    "## Statistics header definitions\n",
    "* **ncalls**: number of calls\n",
    "* **tottime**: total time spent in the given function excluding time made in calls to sub-functions\n",
    "* **percall**: tottime divided by ncalls\n",
    "* **cumtime**: cumulative time spent in this and all subfunctions\n",
    "* **percall**: cumtime divided by ncalls\n",
    "* **filename:lineno(function)**: information about the function"
   ]
  },
  {
   "cell_type": "markdown",
   "metadata": {
    "hideCode": false,
    "hidePrompt": false,
    "slideshow": {
     "slide_type": "subslide"
    }
   },
   "source": [
    "## The `pstats` module"
   ]
  },
  {
   "cell_type": "markdown",
   "metadata": {
    "hideCode": false,
    "hidePrompt": false,
    "slideshow": {
     "slide_type": "-"
    }
   },
   "source": [
    "There are many ways to view profiling data."
   ]
  },
  {
   "cell_type": "markdown",
   "metadata": {
    "hideCode": false,
    "hidePrompt": false,
    "slideshow": {
     "slide_type": "fragment"
    }
   },
   "source": [
    "The module `pstats` provides the class `Stats` for creating profiling reports:"
   ]
  },
  {
   "cell_type": "code",
   "execution_count": 15,
   "metadata": {
    "hideCode": false,
    "hidePrompt": false
   },
   "outputs": [
    {
     "name": "stdout",
     "output_type": "stream",
     "text": [
      "Tue Oct 24 15:08:29 2017    gridloop.prof\n",
      "\n",
      "         1002008 function calls in 1.455 seconds\n",
      "\n",
      "   Ordered by: internal time\n",
      "   List reduced from 7 to 3 due to restriction <3>\n",
      "\n",
      "   ncalls  tottime  percall  cumtime  percall filename:lineno(function)\n",
      "  1002001    1.014    0.000    1.014    0.000 <ipython-input-3-7caea7fc4350>:3(myfunc)\n",
      "        1    0.440    0.440    1.454    1.454 <ipython-input-1-71de986e1b39>:11(gridloop)\n",
      "        1    0.001    0.001    1.455    1.455 <string>:1(<module>)\n",
      "\n",
      "\n"
     ]
    },
    {
     "data": {
      "text/plain": [
       "<pstats.Stats at 0x216bda84278>"
      ]
     },
     "execution_count": 15,
     "metadata": {},
     "output_type": "execute_result"
    }
   ],
   "source": [
    "import pstats\n",
    "\n",
    "stats = pstats.Stats(\"gridloop.prof\")\n",
    "stats.sort_stats(\"time\")\n",
    "stats.print_stats(3)"
   ]
  },
  {
   "cell_type": "markdown",
   "metadata": {
    "hideCode": false,
    "hidePrompt": false,
    "slideshow": {
     "slide_type": "fragment"
    }
   },
   "source": [
    "* The method `sort_stats(key, *keys)` is used to sort future output.\n",
    "* Common used keys: `'calls', 'cumulative', 'time'`.\n",
    "* The argument to `print_stats` limits the view to the N most significant results."
   ]
  },
  {
   "cell_type": "markdown",
   "metadata": {
    "hideCode": false,
    "hidePrompt": false,
    "slideshow": {
     "slide_type": "slide"
    }
   },
   "source": [
    "## Back to the array:"
   ]
  },
  {
   "cell_type": "markdown",
   "metadata": {
    "hideCode": false,
    "hidePrompt": false,
    "slideshow": {
     "slide_type": "fragment"
    }
   },
   "source": [
    "The total runtime (with `profile`) is 8.1s. Biggest contributors:\n",
    "   1. `gridloop` contributes ca 41% of the total runtime.\n",
    "   2. `myfunc` calls contributes ca 55% of the total runtime."
   ]
  },
  {
   "cell_type": "markdown",
   "metadata": {
    "hideCode": false,
    "hidePrompt": false,
    "slideshow": {
     "slide_type": "fragment"
    }
   },
   "source": [
    "* `myfunc` is fairly straight-forward\n",
    "  ```python\n",
    "  def myfunc(x, y):\n",
    "    return sin(x*y) + y\n",
    "  ```\n",
    "  Might be difficult to improve.\n",
    "* What about `gridloop`?"
   ]
  },
  {
   "cell_type": "markdown",
   "metadata": {
    "hideCode": false,
    "hidePrompt": false,
    "slideshow": {
     "slide_type": "subslide"
    }
   },
   "source": [
    "## Recall that, `gridloop` was a function of the form"
   ]
  },
  {
   "cell_type": "markdown",
   "metadata": {
    "hideCode": false,
    "hidePrompt": false,
    "slideshow": {
     "slide_type": "-"
    }
   },
   "source": [
    "```python\n",
    "def gridloop(self, f):\n",
    "    lx = np.size(self.xcoor)\n",
    "    ly = np.size(self.ycoor)\n",
    "    a = np.zeros((lx,ly))\n",
    "\n",
    "    for i in range(lx):\n",
    "        x = self.xcoor[i]\n",
    "        for j in range(ly):\n",
    "            y = self.ycoor[j]\n",
    "             a[i,j] = f(x, y)\n",
    "    return a\n",
    "```"
   ]
  },
  {
   "cell_type": "markdown",
   "metadata": {
    "hideCode": false,
    "hidePrompt": false
   },
   "source": [
    "It would be useful to see how much time is spend in each line!"
   ]
  },
  {
   "cell_type": "markdown",
   "metadata": {
    "hideCode": false,
    "hidePrompt": false,
    "slideshow": {
     "slide_type": "slide"
    }
   },
   "source": [
    "## Line by line profiling"
   ]
  },
  {
   "cell_type": "markdown",
   "metadata": {
    "hideCode": false,
    "hidePrompt": false
   },
   "source": [
    "The `line_profiler` inspects the time spend in each line of a Python function. "
   ]
  },
  {
   "cell_type": "markdown",
   "metadata": {
    "hideCode": false,
    "hidePrompt": false,
    "slideshow": {
     "slide_type": "subslide"
    }
   },
   "source": [
    "## Usage\n",
    "\n",
    "1. Install with `pip install line_profiler`\n",
    "2. \"Decorate\" the function of interest with `@profile`:\n",
    "    ```python\n",
    "    @profile\n",
    "    def gridloop(func):\n",
    "        # ...\n",
    "    ```\n",
    "3. Run line profiler with:\n",
    "    ```bash\n",
    "    kernprof -l -v grid2d_lineprofile.py\n",
    "    ```"
   ]
  },
  {
   "cell_type": "markdown",
   "metadata": {
    "hideCode": false,
    "hidePrompt": false,
    "slideshow": {
     "slide_type": "subslide"
    }
   },
   "source": [
    "## Demo"
   ]
  },
  {
   "cell_type": "code",
   "execution_count": 16,
   "metadata": {
    "hideCode": false,
    "hidePrompt": false
   },
   "outputs": [
    {
     "name": "stdout",
     "output_type": "stream",
     "text": [
      "Computing values...\n",
      "done\n",
      "Wrote profile results to grid2d_lineprofile.lprof\n",
      "Timer unit: 3.95062e-07 s\n",
      "\n",
      "Total time: 2.73364 s\n",
      "File: ./utility_scripts/grid2d_lineprofile.py\n",
      "Function: gridloop at line 12\n",
      "\n",
      "Line #      Hits         Time  Per Hit   % Time  Line Contents\n",
      "==============================================================\n",
      "    12                                               @profile\n",
      "    13                                               def gridloop(self, f):\n",
      "    14         1           10     10.0      0.0          lx = np.size(self.xcoor)\n",
      "    15         1            5      5.0      0.0          ly = np.size(self.ycoor)\n",
      "    16         1           35     35.0      0.0          a = np.zeros((lx,ly))\n",
      "    17                                           \n",
      "    18      1002          894      0.9      0.0          for i in range(lx):\n",
      "    19      1001         1534      1.5      0.0              x = self.xcoor[i]\n",
      "    20   1003002       906244      0.9     13.1              for j in range(ly):\n",
      "    21   1002001      1312863      1.3     19.0                  y = self.ycoor[j]\n",
      "    22   1002001      4697945      4.7     67.9                  a[i,j] = f(x, y)\n",
      "    23         1            0      0.0      0.0          return a\n",
      "\n"
     ]
    }
   ],
   "source": [
    "!kernprof -l -v -o grid2d_lineprofile.lprof ./utility_scripts/grid2d_lineprofile.py"
   ]
  },
  {
   "cell_type": "markdown",
   "metadata": {
    "hideCode": false,
    "hidePrompt": false,
    "slideshow": {
     "slide_type": "fragment"
    }
   },
   "source": [
    "**Conclusion:** Most of the time is spend in loops and indexing."
   ]
  },
  {
   "cell_type": "markdown",
   "metadata": {
    "hideCode": false,
    "hidePrompt": false,
    "slideshow": {
     "slide_type": "slide"
    }
   },
   "source": [
    "## A vectorized Grid2D implementation"
   ]
  },
  {
   "cell_type": "code",
   "execution_count": 17,
   "metadata": {
    "collapsed": true,
    "hideCode": false,
    "hidePrompt": false
   },
   "outputs": [],
   "source": [
    "class VectorizedGrid2D(object):\n",
    "    def __init__(self,\n",
    "                 xmin=0, xmax=1, dx=0.5,\n",
    "                 ymin=0, ymax=1, dy=0.5):\n",
    "        \n",
    "        self.xcoor = np.arange(xmin, xmax+dx, step=dx)\n",
    "        self.ycoor = np.arange(ymin, ymax+dy, step=dy)\n",
    "\n",
    "    def gridloop(self, f):\n",
    "        return f(self.xcoor[:,None], self.ycoor[None,:])  # Vectorized grid evaluation"
   ]
  },
  {
   "cell_type": "markdown",
   "metadata": {
    "hideCode": false,
    "hidePrompt": false,
    "slideshow": {
     "slide_type": "subslide"
    }
   },
   "source": [
    "## Timing the vectorized Grid2D"
   ]
  },
  {
   "cell_type": "code",
   "execution_count": 18,
   "metadata": {
    "hideCode": false,
    "hidePrompt": false
   },
   "outputs": [
    {
     "name": "stdout",
     "output_type": "stream",
     "text": [
      "Original Grid\n"
     ]
    },
    {
     "data": {
      "text/plain": [
       "[1.4023411358024678,\n",
       " 1.420436543209874,\n",
       " 1.4165301728395043,\n",
       " 1.382942419753089,\n",
       " 1.3423403456790126]"
      ]
     },
     "execution_count": 18,
     "metadata": {},
     "output_type": "execute_result"
    }
   ],
   "source": [
    "g = Grid2D(dx=0.001, dy=0.001)\n",
    "print(\"Original Grid\")\n",
    "timeit.repeat(stmt=\"g.gridloop(myfunc)\", setup=\"from __main__  import g, myfunc\", repeat=5, number=1)"
   ]
  },
  {
   "cell_type": "code",
   "execution_count": 19,
   "metadata": {
    "hideCode": false,
    "hidePrompt": false,
    "slideshow": {
     "slide_type": "fragment"
    }
   },
   "outputs": [
    {
     "name": "stdout",
     "output_type": "stream",
     "text": [
      "Vectorized Grid\n"
     ]
    },
    {
     "data": {
      "text/plain": [
       "[0.013759604938272219,\n",
       " 0.013468839506170838,\n",
       " 0.012957234567902987,\n",
       " 0.0146394074074081,\n",
       " 0.012152493827162658]"
      ]
     },
     "execution_count": 19,
     "metadata": {},
     "output_type": "execute_result"
    }
   ],
   "source": [
    "vg = VectorizedGrid2D(dx=0.001, dy=0.001)\n",
    "print(\"Vectorized Grid\")\n",
    "timeit.repeat(stmt=\"vg.gridloop(myfunc)\", setup=\"from __main__  import vg, myfunc\", repeat=5, number=1)"
   ]
  },
  {
   "cell_type": "markdown",
   "metadata": {
    "hideCode": false,
    "hidePrompt": false,
    "slideshow": {
     "slide_type": "fragment"
    }
   },
   "source": [
    "**Vectorization yields a 70 times speed improvement!**"
   ]
  },
  {
   "cell_type": "markdown",
   "metadata": {
    "hideCode": false,
    "hidePrompt": false,
    "slideshow": {
     "slide_type": "slide"
    }
   },
   "source": [
    "## Visual profiling"
   ]
  },
  {
   "cell_type": "markdown",
   "metadata": {
    "hideCode": false,
    "hidePrompt": false
   },
   "source": [
    "A big problem in all of the above techniques is that for a large code base, such a profile can be extremely painful to comb through."
   ]
  },
  {
   "cell_type": "markdown",
   "metadata": {
    "hideCode": false,
    "hidePrompt": false,
    "slideshow": {
     "slide_type": "fragment"
    }
   },
   "source": [
    "Therefore, a GUI approach has been designed. Many packages are out there, but the one most supported by Continuum Analytics is `snakeviz`"
   ]
  },
  {
   "cell_type": "markdown",
   "metadata": {
    "hideCode": false,
    "hidePrompt": false,
    "slideshow": {
     "slide_type": "fragment"
    }
   },
   "source": [
    "`snakeviz` digests the profile and shows you a visual representation and interactive sunburst graph to show you which functions are taking up the most time/resources"
   ]
  },
  {
   "cell_type": "markdown",
   "metadata": {
    "hideCode": false,
    "hidePrompt": false,
    "slideshow": {
     "slide_type": "subslide"
    }
   },
   "source": [
    "### Implementation"
   ]
  },
  {
   "cell_type": "code",
   "execution_count": null,
   "metadata": {
    "hideCode": false,
    "hideOutput": false,
    "hidePrompt": false
   },
   "outputs": [],
   "source": [
    "!pip install snakeviz"
   ]
  },
  {
   "cell_type": "code",
   "execution_count": null,
   "metadata": {
    "collapsed": true,
    "hideCode": false,
    "hidePrompt": false
   },
   "outputs": [],
   "source": [
    "%load_ext snakeviz\n",
    "\n",
    "g = Grid2D(dx=0.001, dy=0.001)"
   ]
  },
  {
   "cell_type": "code",
   "execution_count": null,
   "metadata": {
    "hideCode": false,
    "hideOutput": false,
    "hidePrompt": false,
    "slideshow": {
     "slide_type": "subslide"
    }
   },
   "outputs": [],
   "source": [
    "%%snakeviz\n",
    "\n",
    "g.gridloop(myfunc)"
   ]
  },
  {
   "cell_type": "markdown",
   "metadata": {
    "hideCode": false,
    "hidePrompt": false,
    "slideshow": {
     "slide_type": "subslide"
    }
   },
   "source": [
    "There is also a CLI tool to access these same results outside of a jupyter notebook:"
   ]
  },
  {
   "cell_type": "markdown",
   "metadata": {
    "hideCode": false,
    "hidePrompt": false
   },
   "source": [
    "```bash\n",
    "python -m cProfile -o my_program.prof my_program.py\n",
    "snakeviz program.prof\n",
    "```"
   ]
  },
  {
   "cell_type": "markdown",
   "metadata": {
    "hideCode": false,
    "hidePrompt": false,
    "slideshow": {
     "slide_type": "subslide"
    }
   },
   "source": [
    "## Lastly, profiler decorating"
   ]
  },
  {
   "cell_type": "markdown",
   "metadata": {
    "hideCode": false,
    "hidePrompt": false
   },
   "source": [
    "```python\n",
    "import cProfile\n",
    "\n",
    "def profileit(func):\n",
    "    def wrapper(*args, **kwargs):\n",
    "        datafn = func.__name__ + \".prof\" # Name the data file sensibly\n",
    "        prof = cProfile.Profile()\n",
    "        retval = prof.runcall(func, *args, **kwargs)\n",
    "        prof.dump_stats(datafn)\n",
    "        return retval\n",
    "\n",
    "    return wrapper\n",
    "\n",
    "@profileit # This decorator now will profile the specific function it wraps\n",
    "def myFunc()\n",
    "```"
   ]
  }
 ],
 "metadata": {
  "celltoolbar": "Hide code",
  "hide_code_all_hidden": false,
  "kernelspec": {
   "display_name": "Python 3",
   "language": "python",
   "name": "python3"
  },
  "language_info": {
   "codemirror_mode": {
    "name": "ipython",
    "version": 3
   },
   "file_extension": ".py",
   "mimetype": "text/x-python",
   "name": "python",
   "nbconvert_exporter": "python",
   "pygments_lexer": "ipython3",
   "version": "3.6.1"
  },
  "livereveal": {
   "scroll": true,
   "start_slideshow_at": "selected",
   "theme": "serif"
  }
 },
 "nbformat": 4,
 "nbformat_minor": 1
}
