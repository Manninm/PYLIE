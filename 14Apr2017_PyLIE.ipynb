{
 "cells": [
  {
   "cell_type": "markdown",
   "metadata": {
    "slideshow": {
     "slide_type": "slide"
    }
   },
   "source": [
    "# Generators"
   ]
  },
  {
   "cell_type": "markdown",
   "metadata": {
    "slideshow": {
     "slide_type": "slide"
    }
   },
   "source": [
    "### Definition:"
   ]
  },
  {
   "cell_type": "markdown",
   "metadata": {
    "slideshow": {
     "slide_type": "fragment"
    }
   },
   "source": [
    "* A generator is a function that returns a *generator iterator*."
   ]
  },
  {
   "cell_type": "markdown",
   "metadata": {
    "slideshow": {
     "slide_type": "fragment"
    }
   },
   "source": [
    "Just like an iterator, a generator iterator performs some operation when `next()` is called on it. This is what happens inherently when one used a for loop."
   ]
  },
  {
   "cell_type": "markdown",
   "metadata": {
    "slideshow": {
     "slide_type": "fragment"
    }
   },
   "source": [
    "### However,"
   ]
  },
  {
   "cell_type": "markdown",
   "metadata": {
    "slideshow": {
     "slide_type": "fragment"
    }
   },
   "source": [
    "There is one **big** difference. Where iterators tend to be used until exhausted, a generator iterator temporarily `yields` control back to the user."
   ]
  },
  {
   "cell_type": "markdown",
   "metadata": {
    "slideshow": {
     "slide_type": "fragment"
    }
   },
   "source": [
    "What this means is a generator remains stateful while it *waits* for the user to call it again."
   ]
  },
  {
   "cell_type": "markdown",
   "metadata": {
    "slideshow": {
     "slide_type": "slide"
    }
   },
   "source": [
    "![](http://nvie.com/img/relationships.png)"
   ]
  },
  {
   "cell_type": "markdown",
   "metadata": {
    "slideshow": {
     "slide_type": "slide"
    }
   },
   "source": [
    "### Generator vs Function"
   ]
  },
  {
   "cell_type": "markdown",
   "metadata": {
    "slideshow": {
     "slide_type": "fragment"
    }
   },
   "source": [
    "While a generator is a Python function that returns a generator iterator, there is a big difference between the two."
   ]
  },
  {
   "cell_type": "markdown",
   "metadata": {
    "hideCode": true,
    "hideOutput": true,
    "slideshow": {
     "slide_type": "fragment"
    }
   },
   "source": [
    "**Functions** start with the first line and processes until it `return`s (or `prints`, `log`s , etc) something. It is then effectively *reset*. This means that if your were to call that same function again, it would build all of its variables and objects (within its scope) from scratch."
   ]
  },
  {
   "cell_type": "markdown",
   "metadata": {
    "slideshow": {
     "slide_type": "fragment"
    }
   },
   "source": [
    "The most precise definition is that a function that stores local variables during operation, then loses them when complete is called a <u>subroutine</u>"
   ]
  },
  {
   "cell_type": "markdown",
   "metadata": {
    "slideshow": {
     "slide_type": "fragment"
    }
   },
   "source": [
    "**Generators**, however, keep their *state* (their variables and objects) after resolving the `yield` statement. This means that if you call a generator again, it will pick up where it left off. (also known as coroutines)."
   ]
  },
  {
   "cell_type": "markdown",
   "metadata": {
    "slideshow": {
     "slide_type": "slide"
    }
   },
   "source": [
    "## Why does this matter?"
   ]
  },
  {
   "cell_type": "markdown",
   "metadata": {
    "slideshow": {
     "slide_type": "fragment"
    }
   },
   "source": [
    "Often, especially in bioinformatics, we are operating with very large amounts of data. For example, let's say we are working with Hi-C data, which contains an all-vs-all Pearson Correlation matrix."
   ]
  },
  {
   "cell_type": "markdown",
   "metadata": {
    "slideshow": {
     "slide_type": "slide"
    }
   },
   "source": [
    "\n",
    "<center>![](http://web.cmb.usc.edu/people/alber/images/HiCorrector.png)</center>"
   ]
  },
  {
   "cell_type": "markdown",
   "metadata": {
    "slideshow": {
     "slide_type": "slide"
    }
   },
   "source": [
    "Say I am doing some weird analysis where I only want to look at all the regions that have a correlation between \n",
    "```math\n",
    "0.8 < corr < 0.95\n",
    "```....I don't know why, just saying."
   ]
  },
  {
   "cell_type": "markdown",
   "metadata": {
    "slideshow": {
     "slide_type": "fragment"
    }
   },
   "source": [
    "To pull out that information, with a <u>traditional iterator</u>, I would have to go through the whole matrix, collect all the values, then return them in some format (`list`, `dict`, `tuple`, etc.) This list could, potentially, be  very **very** large."
   ]
  },
  {
   "cell_type": "markdown",
   "metadata": {
    "slideshow": {
     "slide_type": "slide"
    }
   },
   "source": [
    "<center>With a <u>generator</u>, it could find the first N values, then wait. ![](https://media.giphy.com/media/4KkSbPnZ5Skec/giphy.gif)</center>"
   ]
  },
  {
   "cell_type": "markdown",
   "metadata": {
    "slideshow": {
     "slide_type": "fragment"
    }
   },
   "source": [
    "<center>then give you the next N values when you call `next()` again. The best part is, it is lazy (just like me). It wont do anything until you tell it to. This makes big data easy to iteratively process.</center>"
   ]
  },
  {
   "cell_type": "markdown",
   "metadata": {
    "slideshow": {
     "slide_type": "slide"
    }
   },
   "source": [
    "### An example (Project Euler stuff)"
   ]
  },
  {
   "cell_type": "code",
   "execution_count": 134,
   "metadata": {
    "collapsed": true,
    "hidePrompt": true,
    "slideshow": {
     "slide_type": "fragment"
    }
   },
   "outputs": [],
   "source": [
    "# a utility function\n",
    "import math\n",
    "import warnings\n",
    "warnings.filterwarnings(\"ignore\", category=np.VisibleDeprecationWarning) \n",
    "import numpy as np\n",
    "\n",
    "\n",
    "def is_prime(number):\n",
    "    if number % 2 == 0 and number > 2: \n",
    "        return False\n",
    "    return all(number % i for i in range(3, int(math.sqrt(number)) + 1, 2))"
   ]
  },
  {
   "cell_type": "markdown",
   "metadata": {
    "slideshow": {
     "slide_type": "fragment"
    }
   },
   "source": [
    "Now, given a list of numbers `nums`, return all of the prime numbers"
   ]
  },
  {
   "cell_type": "code",
   "execution_count": 135,
   "metadata": {
    "collapsed": true,
    "hidePrompt": true,
    "slideshow": {
     "slide_type": "slide"
    }
   },
   "outputs": [],
   "source": [
    "def get_primes(input_list):\n",
    "    result_list = []\n",
    "    for element in input_list:\n",
    "        if is_prime(element):\n",
    "            result_list.append(element)\n",
    "\n",
    "    return result_list"
   ]
  },
  {
   "cell_type": "markdown",
   "metadata": {
    "slideshow": {
     "slide_type": "fragment"
    }
   },
   "source": [
    "With a regular function and a relatively short list of numbers, this is a perfectly good solution."
   ]
  },
  {
   "cell_type": "code",
   "execution_count": 136,
   "metadata": {
    "collapsed": false,
    "hidePrompt": true,
    "slideshow": {
     "slide_type": "slide"
    }
   },
   "outputs": [
    {
     "name": "stdout",
     "output_type": "stream",
     "text": [
      "Wall time: 1 ms\n"
     ]
    },
    {
     "data": {
      "text/plain": [
       "[1.0,\n",
       " 2.0,\n",
       " 3.0,\n",
       " 5.0,\n",
       " 7.0,\n",
       " 11.0,\n",
       " 13.0,\n",
       " 17.0,\n",
       " 19.0,\n",
       " 23.0,\n",
       " 29.0,\n",
       " 31.0,\n",
       " 37.0,\n",
       " 41.0,\n",
       " 43.0,\n",
       " 47.0,\n",
       " 53.0,\n",
       " 59.0,\n",
       " 61.0,\n",
       " 67.0,\n",
       " 71.0,\n",
       " 73.0,\n",
       " 79.0,\n",
       " 83.0,\n",
       " 89.0,\n",
       " 97.0]"
      ]
     },
     "execution_count": 136,
     "metadata": {},
     "output_type": "execute_result"
    }
   ],
   "source": [
    "%time get_primes(np.arange(1, 1e2))"
   ]
  },
  {
   "cell_type": "markdown",
   "metadata": {
    "slideshow": {
     "slide_type": "fragment"
    }
   },
   "source": [
    "What about when we get bigger? Say the list is infinitely long. So long that it wouldn't fit in memory. Let's do some benchmarking..."
   ]
  },
  {
   "cell_type": "code",
   "execution_count": 137,
   "metadata": {
    "collapsed": false,
    "hidePrompt": false,
    "slideshow": {
     "slide_type": "slide"
    }
   },
   "outputs": [
    {
     "name": "stdout",
     "output_type": "stream",
     "text": [
      "Wall time: 0 ns\n",
      "Wall time: 2 ms\n",
      "Wall time: 35.1 ms\n",
      "Wall time: 542 ms\n",
      "Wall time: 12.1 s\n",
      "Done!\n"
     ]
    }
   ],
   "source": [
    "%time get_primes(np.arange(1, 1e2))\n",
    "%time get_primes(np.arange(1, 1e3))\n",
    "%time get_primes(np.arange(1, 1e4))\n",
    "%time get_primes(np.arange(1, 1e5))\n",
    "%time get_primes(np.arange(1, 1e6))\n",
    "print(\"Done!\")"
   ]
  },
  {
   "cell_type": "markdown",
   "metadata": {
    "slideshow": {
     "slide_type": "slide"
    }
   },
   "source": [
    "Now, let's try a generator..."
   ]
  },
  {
   "cell_type": "code",
   "execution_count": 138,
   "metadata": {
    "collapsed": false,
    "hidePrompt": true,
    "slideshow": {
     "slide_type": "fragment"
    }
   },
   "outputs": [],
   "source": [
    "def get_primes(number):\n",
    "    while True:\n",
    "        if is_prime(number):\n",
    "            yield number\n",
    "        number += 1"
   ]
  },
  {
   "cell_type": "code",
   "execution_count": 139,
   "metadata": {
    "collapsed": false,
    "hidePrompt": true,
    "scrolled": true,
    "slideshow": {
     "slide_type": "fragment"
    }
   },
   "outputs": [],
   "source": [
    "def pass_primes(stop):\n",
    "    global primer\n",
    "    primer = get_primes(1)\n",
    "    primer.send(None)\n",
    "    for prime in primer:\n",
    "        if prime <= stop:\n",
    "            pass\n",
    "        else:\n",
    "            break"
   ]
  },
  {
   "cell_type": "code",
   "execution_count": 140,
   "metadata": {
    "collapsed": false,
    "hidePrompt": false,
    "slideshow": {
     "slide_type": "slide"
    }
   },
   "outputs": [
    {
     "name": "stdout",
     "output_type": "stream",
     "text": [
      "Wall time: 0 ns\n",
      "Wall time: 1 ms\n",
      "Wall time: 13.1 ms\n",
      "Wall time: 173 ms\n",
      "Wall time: 3.28 s\n",
      "Wall time: 1min 19s\n"
     ]
    }
   ],
   "source": [
    "%time pass_primes(1e2)\n",
    "%time pass_primes(1e3)\n",
    "%time pass_primes(1e4)\n",
    "%time pass_primes(1e5)\n",
    "%time pass_primes(1e6)\n",
    "%time pass_primes(1e7)"
   ]
  },
  {
   "cell_type": "code",
   "execution_count": 142,
   "metadata": {
    "collapsed": false
   },
   "outputs": [
    {
     "data": {
      "text/plain": [
       "10000103"
      ]
     },
     "execution_count": 142,
     "metadata": {},
     "output_type": "execute_result"
    }
   ],
   "source": [
    "next(primer)"
   ]
  },
  {
   "cell_type": "markdown",
   "metadata": {
    "slideshow": {
     "slide_type": "slide"
    }
   },
   "source": [
    "## Generator Expressions"
   ]
  },
  {
   "cell_type": "markdown",
   "metadata": {
    "slideshow": {
     "slide_type": "fragment"
    }
   },
   "source": [
    "We already know what a list comprehension is. For example:"
   ]
  },
  {
   "cell_type": "code",
   "execution_count": 143,
   "metadata": {
    "collapsed": false,
    "hidePrompt": true,
    "slideshow": {
     "slide_type": "fragment"
    }
   },
   "outputs": [
    {
     "data": {
      "text/plain": [
       "[2.0, 4.0, 6.0, 8.0, 10.0]"
      ]
     },
     "execution_count": 143,
     "metadata": {},
     "output_type": "execute_result"
    }
   ],
   "source": [
    "list_comp = [i for i in np.arange(1, 1e6) if i % 2 == 0]\n",
    "list_comp[:5]"
   ]
  },
  {
   "cell_type": "markdown",
   "metadata": {
    "slideshow": {
     "slide_type": "slide"
    }
   },
   "source": [
    "However, this suffers the same limitation as our `get_primes()` example. It ***eagerly*** computes all the possibilities, *then* it returns a list as an object."
   ]
  },
  {
   "cell_type": "markdown",
   "metadata": {
    "slideshow": {
     "slide_type": "fragment"
    }
   },
   "source": [
    "A generator expression gives you the same power, but it does so ***lazily***"
   ]
  },
  {
   "cell_type": "code",
   "execution_count": 144,
   "metadata": {
    "collapsed": false,
    "hidePrompt": true,
    "slideshow": {
     "slide_type": "fragment"
    }
   },
   "outputs": [
    {
     "data": {
      "text/plain": [
       "<generator object <genexpr> at 0x000002593C2DDF68>"
      ]
     },
     "execution_count": 144,
     "metadata": {},
     "output_type": "execute_result"
    }
   ],
   "source": [
    "gen_comp = (i for i in np.arange(1, 1e6) if i % 2 == 0)\n",
    "gen_comp"
   ]
  },
  {
   "cell_type": "markdown",
   "metadata": {
    "slideshow": {
     "slide_type": "fragment"
    }
   },
   "source": [
    "WAIT, WAIT, WAIT! That isn't the same thing,...right?"
   ]
  },
  {
   "cell_type": "code",
   "execution_count": 145,
   "metadata": {
    "collapsed": false,
    "hidePrompt": true,
    "scrolled": false,
    "slideshow": {
     "slide_type": "slide"
    }
   },
   "outputs": [
    {
     "name": "stdout",
     "output_type": "stream",
     "text": [
      "2.0\n",
      "4.0\n",
      "6.0\n",
      "8.0\n",
      "10.0\n"
     ]
    }
   ],
   "source": [
    "for i in range(5):\n",
    "    print(next(gen_comp))"
   ]
  },
  {
   "cell_type": "markdown",
   "metadata": {
    "slideshow": {
     "slide_type": "fragment"
    }
   },
   "source": [
    "It *is* the same thing in that it gives you the same data. The only difference is that it doesn't give you *all* the data at one time. It only gives you the next data point, thus saving you on memory resources."
   ]
  },
  {
   "cell_type": "markdown",
   "metadata": {
    "slideshow": {
     "slide_type": "slide"
    }
   },
   "source": [
    "# Workshop"
   ]
  },
  {
   "cell_type": "markdown",
   "metadata": {
    "slideshow": {
     "slide_type": "fragment"
    }
   },
   "source": [
    "In pairs, develop a generalized program that will return the fibonacci sequence between I and J. If that sequence is not N items long, exand the support until it is."
   ]
  },
  {
   "cell_type": "markdown",
   "metadata": {
    "slideshow": {
     "slide_type": "fragment"
    }
   },
   "source": [
    "```python\n",
    "seq = fib_seq(I, J)\n",
    "len(seq) == N\n",
    ">>> True\n",
    "```"
   ]
  }
 ],
 "metadata": {
  "celltoolbar": "Slideshow",
  "kernelspec": {
   "display_name": "Python 3",
   "language": "python",
   "name": "python3"
  },
  "language_info": {
   "codemirror_mode": {
    "name": "ipython",
    "version": 3
   },
   "file_extension": ".py",
   "mimetype": "text/x-python",
   "name": "python",
   "nbconvert_exporter": "python",
   "pygments_lexer": "ipython3",
   "version": "3.6.0"
  }
 },
 "nbformat": 4,
 "nbformat_minor": 2
}
