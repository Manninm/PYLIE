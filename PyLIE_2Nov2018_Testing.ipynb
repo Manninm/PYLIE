{
 "cells": [
  {
   "cell_type": "markdown",
   "metadata": {},
   "source": [
    "# Testing and Test-Driven Development (TDD)"
   ]
  },
  {
   "cell_type": "markdown",
   "metadata": {},
   "source": [
    "---\n",
    "## Testing"
   ]
  },
  {
   "cell_type": "markdown",
   "metadata": {},
   "source": [
    "**Purpose:** to verify that the software package functions according to the expectations defined by the requirements/specifications. \n",
    "\n",
    "The overall objective to ***not*** to find every software bug that exists, but to uncover situations that could negatively impact the usability and/or maintainability. "
   ]
  },
  {
   "cell_type": "markdown",
   "metadata": {},
   "source": [
    "## Types of testing:"
   ]
  },
  {
   "cell_type": "markdown",
   "metadata": {},
   "source": [
    "1. Unit testing\n",
    "    * tests individual units of code with mock dependencies and/or variables\n",
    "* Functional testing\n",
    "    * tests parts (or whole) portions of a code base (superset of unit tests)\n",
    "* Parametric testing\n",
    "    * tests the entire module with parameterized arguments\n",
    "* Fault tolerant testing\n",
    "    * tests the module against illegal or inappropriate variables/dependencies\n",
    "* Integration testing\n",
    "    * tests how well the module plays with others\n",
    "* Regression testing\n",
    "    * retesting entire subsystems/modules/units after other tests to verify no new bugs have been created"
   ]
  },
  {
   "cell_type": "markdown",
   "metadata": {},
   "source": [
    "---\n",
    "## Unit testing"
   ]
  },
  {
   "cell_type": "markdown",
   "metadata": {},
   "source": [
    "**Scenario:** You write the function below:"
   ]
  },
  {
   "cell_type": "code",
   "execution_count": null,
   "metadata": {},
   "outputs": [],
   "source": [
    "def foo(arg):\n",
    "    \"\"\"Does something\n",
    "    \n",
    "    Args:\n",
    "        foo (int): some number\n",
    "    \n",
    "    Returns:\n",
    "        (float): arg divided by half of itself\n",
    "    \n",
    "    Usage:\n",
    "        >>> foo(7)\n",
    "        2.0\n",
    "    \"\"\"\n",
    "    return arg / (arg / 2)"
   ]
  },
  {
   "cell_type": "code",
   "execution_count": null,
   "metadata": {},
   "outputs": [],
   "source": [
    "import doctest"
   ]
  },
  {
   "cell_type": "code",
   "execution_count": null,
   "metadata": {},
   "outputs": [],
   "source": [
    "# Test the function's doctests\n",
    "doctest.run_docstring_examples(foo, globals(), verbose = True)"
   ]
  },
  {
   "cell_type": "markdown",
   "metadata": {},
   "source": [
    "### This should make you feel good. It is well documented. It passes its `doctest`."
   ]
  },
  {
   "cell_type": "markdown",
   "metadata": {},
   "source": [
    "**However**, there is some issues if this is your assumption:"
   ]
  },
  {
   "cell_type": "code",
   "execution_count": null,
   "metadata": {},
   "outputs": [],
   "source": []
  },
  {
   "cell_type": "markdown",
   "metadata": {},
   "source": [
    "---\n",
    "## Code Coverage:"
   ]
  },
  {
   "cell_type": "markdown",
   "metadata": {},
   "source": [
    "is a measure that describes the how much of your code is actually *'touched'* by tests in your test suite."
   ]
  },
  {
   "cell_type": "code",
   "execution_count": null,
   "metadata": {},
   "outputs": [],
   "source": []
  },
  {
   "cell_type": "markdown",
   "metadata": {},
   "source": [
    "---\n",
    "## TDD"
   ]
  },
  {
   "cell_type": "markdown",
   "metadata": {},
   "source": [
    "<center><img src='figures/tdd.jpg'/></center>"
   ]
  },
  {
   "cell_type": "markdown",
   "metadata": {},
   "source": [
    "<center><img src='figures/tdd_diagram.jpg'/></center>"
   ]
  },
  {
   "cell_type": "markdown",
   "metadata": {},
   "source": [
    "### The Process:\n",
    "1. Write a failing test\n",
    "2. Write just enough code to pass the test\n",
    "3. Clean-up and de-dupe\n",
    "4. re-run tests\n",
    "5. repeat"
   ]
  },
  {
   "cell_type": "code",
   "execution_count": null,
   "metadata": {},
   "outputs": [],
   "source": []
  }
 ],
 "metadata": {
  "kernelspec": {
   "display_name": "Python 3",
   "language": "python",
   "name": "python3"
  },
  "language_info": {
   "codemirror_mode": {
    "name": "ipython",
    "version": 3
   },
   "file_extension": ".py",
   "mimetype": "text/x-python",
   "name": "python",
   "nbconvert_exporter": "python",
   "pygments_lexer": "ipython3",
   "version": "3.7.0"
  }
 },
 "nbformat": 4,
 "nbformat_minor": 2
}
