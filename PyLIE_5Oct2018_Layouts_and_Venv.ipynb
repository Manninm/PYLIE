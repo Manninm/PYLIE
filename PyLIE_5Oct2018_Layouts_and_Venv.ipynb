{
 "cells": [
  {
   "cell_type": "markdown",
   "metadata": {},
   "source": [
    "# Project Structure and Virtual Environments"
   ]
  },
  {
   "cell_type": "markdown",
   "metadata": {},
   "source": [
    "## Overview\n",
    "1. PyLIE Introduction\n",
    "2. Project Structure\n",
    "    * Motivation\n",
    "    * Convention\n",
    "    * Shortcuts\n",
    "3. Virtual Environments\n",
    "    * Motivation\n",
    "    * Tools\n",
    "    * Workshop"
   ]
  },
  {
   "cell_type": "markdown",
   "metadata": {},
   "source": [
    "---"
   ]
  },
  {
   "cell_type": "markdown",
   "metadata": {},
   "source": [
    "# PyLIE Introduction"
   ]
  },
  {
   "cell_type": "markdown",
   "metadata": {},
   "source": [
    "### Ice Breaker:"
   ]
  },
  {
   "cell_type": "markdown",
   "metadata": {},
   "source": [
    "Tell the person sitting next to you both your name and your super power (if you don't have one, make one up)"
   ]
  },
  {
   "cell_type": "markdown",
   "metadata": {},
   "source": [
    "<center><img src=\"http://www.jmkxyy.com/shaking-hands-icon-png/shaking-hands-icon-png-1.jpg\" align=\"right\" width='300px'/></center>"
   ]
  },
  {
   "cell_type": "markdown",
   "metadata": {},
   "source": [
    "---"
   ]
  },
  {
   "cell_type": "markdown",
   "metadata": {},
   "source": [
    "## What is PyLIE?"
   ]
  },
  {
   "cell_type": "markdown",
   "metadata": {},
   "source": [
    "\n",
    "<center><img src='./figures/LIE.png' width='400px'/></center>"
   ]
  },
  {
   "cell_type": "markdown",
   "metadata": {},
   "source": [
    "**PyLIE** is the Python Languange Immersion & Education group"
   ]
  },
  {
   "cell_type": "markdown",
   "metadata": {},
   "source": [
    "The purpose of PyLIE is to instruct and instill coding *best practices*, good *coding habits*, and *technology evangelism*."
   ]
  },
  {
   "cell_type": "markdown",
   "metadata": {},
   "source": [
    "#### Some of the things we will cover:\n",
    "* Project layout \n",
    "* Virtual environments\n",
    "* Cloud computing\n",
    "* Continuous integration\n",
    "* Unit testing\n",
    "* Style guides\n",
    "* etc"
   ]
  },
  {
   "cell_type": "markdown",
   "metadata": {},
   "source": [
    "---"
   ]
  },
  {
   "cell_type": "markdown",
   "metadata": {},
   "source": [
    "# Project Layout"
   ]
  },
  {
   "cell_type": "markdown",
   "metadata": {},
   "source": [
    "<center><img src=\"http://cdn.osxdaily.com/wp-content/uploads/2015/01/nested-directory-structure-to-flatten.jpg\"/></center>"
   ]
  },
  {
   "cell_type": "markdown",
   "metadata": {},
   "source": [
    "## Motivation"
   ]
  },
  {
   "cell_type": "markdown",
   "metadata": {},
   "source": [
    "Directories are painful. If you don't think so, try to ask any professor about a PowerPoint they used 3 years ago... They have it, but they don't remember where. You can probably even look at your own 'Documents' folder for some good examples."
   ]
  },
  {
   "cell_type": "markdown",
   "metadata": {},
   "source": [
    "This becomes even more problematic when you are developing a coding project. This can be something as simple as an in-house program, or something you plan to share on [GitHub](https://www.github.com/)."
   ]
  },
  {
   "cell_type": "markdown",
   "metadata": {},
   "source": [
    "In my *opinion*, a good project layout precedes version control. Therefore, it is important to address it before we actually get into writing any code."
   ]
  },
  {
   "cell_type": "markdown",
   "metadata": {},
   "source": [
    "## Convention"
   ]
  },
  {
   "cell_type": "markdown",
   "metadata": {},
   "source": [
    "There are plenty of conventions out there for project layout, and many of them are dependent on what type of project you are writing. Since this is a Python group, we will be working off of a very minimal project layout:"
   ]
  },
  {
   "cell_type": "markdown",
   "metadata": {},
   "source": [
    "```bash\n",
    "my_project/         # This would be the folder you shortcut to\n",
    "|-docs/             # When we get around to documentation, all your stuff will go here\n",
    "|-tests/            # Unit tests and test suites for your code\n",
    "|-my_project/       # The actual project code\n",
    "|--|-__init__.py    # Makes your project detectable as a module\n",
    "|--|-core.py        # The basic core of your program\n",
    "|-setup.py          # This is used to install your program\n",
    "|-requirements.txt  # List of all your project's dependencies\n",
    "|-README.md         # EVERY project should have a readme\n",
    "|-LICENSE           # Without this, no one is technically allowed to use your code\n",
    "|-CONTRIBUTING.md   # If you want other people's help\n",
    "|-MANIFEST.ini      # Additional installation stuff\n",
    "```"
   ]
  },
  {
   "cell_type": "markdown",
   "metadata": {},
   "source": [
    "## Shortcuts"
   ]
  },
  {
   "cell_type": "markdown",
   "metadata": {},
   "source": [
    "The layout above is a *very* basic layout. Even then, however, it would be a pain to do by hand. Therefore there are some helpful shortcuts to getting it going."
   ]
  },
  {
   "cell_type": "markdown",
   "metadata": {},
   "source": [
    "### GitHub"
   ]
  },
  {
   "cell_type": "markdown",
   "metadata": {},
   "source": [
    "The quickest shortcut is when you create a GitHub repository. It will ask you what kind of license you want to use and if you want to initialize it with and *empty* README file."
   ]
  },
  {
   "cell_type": "markdown",
   "metadata": {},
   "source": [
    "<center><img src='./figures/github.png' width='450px'/></center>"
   ]
  },
  {
   "cell_type": "markdown",
   "metadata": {},
   "source": [
    "However, this kind of goes against what I just said...Project Layout should come *before* version control."
   ]
  },
  {
   "cell_type": "markdown",
   "metadata": {},
   "source": [
    "### Cookiecutter"
   ]
  },
  {
   "cell_type": "markdown",
   "metadata": {},
   "source": [
    "[Cookiecutter](https://github.com/audreyr/cookiecutter) is a Python package that allows users to define project *templates* ahead of time, then just use them to make project skeletons. What is best about `cookiecutter` is that you can use **any** published template."
   ]
  },
  {
   "cell_type": "code",
   "execution_count": null,
   "metadata": {},
   "outputs": [],
   "source": [
    "# Install\n",
    "pip install --user cookiecutter # do NOT use conda"
   ]
  },
  {
   "cell_type": "code",
   "execution_count": null,
   "metadata": {},
   "outputs": [],
   "source": [
    "# Linux & MacOS\n",
    "echo 'export PATH=~/.local/bin:$PATH' >> ~/.bashrc && source ~/.bashrc"
   ]
  },
  {
   "cell_type": "markdown",
   "metadata": {},
   "source": [
    "**Windows**\n",
    "1. Control Panel > System and Security > System > Advanced system settings > Environment Variables...\n",
    "2. Double-click 'Path' under 'User variables for \\<username\\>'\n",
    "3. Click 'New'\n",
    "4. add %APPDATA%\\path\\to\\python_dist\\Scripts"
   ]
  },
  {
   "cell_type": "markdown",
   "metadata": {},
   "source": [
    "Now, just navigate to your project's root directory..."
   ]
  },
  {
   "cell_type": "code",
   "execution_count": null,
   "metadata": {},
   "outputs": [],
   "source": [
    "cd /mnt/d/MDS/\n",
    "mkdir testing_cutter && cd testing_cutter"
   ]
  },
  {
   "cell_type": "markdown",
   "metadata": {},
   "source": [
    "... and type the following command and follow the prompts:"
   ]
  },
  {
   "cell_type": "code",
   "execution_count": null,
   "metadata": {},
   "outputs": [],
   "source": [
    "cookiecutter https://github.com/betteridiot/cookiecutter-minimal.git"
   ]
  },
  {
   "cell_type": "markdown",
   "metadata": {},
   "source": [
    "Now we have a *basic* project layout ready to go. The only things we need to do to it is:\n",
    "* Write our README.md\n",
    "* Fill in requirements.txt\n",
    "* Change the year on our LICENSE\n",
    "* Write our code"
   ]
  },
  {
   "cell_type": "markdown",
   "metadata": {},
   "source": [
    "---"
   ]
  },
  {
   "cell_type": "markdown",
   "metadata": {},
   "source": [
    "# Virtual Environments"
   ]
  },
  {
   "cell_type": "markdown",
   "metadata": {},
   "source": [
    "<center><img src='https://cdn.cambridgevillageofapex.com/wp-content/uploads/2017/04/social-isolation-apex-nc.jpg' width='600px' /></center> "
   ]
  },
  {
   "cell_type": "markdown",
   "metadata": {},
   "source": [
    "## Motivation"
   ]
  },
  {
   "cell_type": "markdown",
   "metadata": {},
   "source": [
    "One of the biggest issues in software development is called *dependency hell*. This is when something your program may depend on depends on something else (which depends on someting else)...but your program may only 'know' about the first level of dependencies.  "
   ]
  },
  {
   "cell_type": "markdown",
   "metadata": {},
   "source": [
    "Everytime a user does a `pip install this` or `conda install that`, they are potentially \"polluting\" their project's dependencies. To fix this, we use virtual environments."
   ]
  },
  {
   "cell_type": "markdown",
   "metadata": {},
   "source": [
    "## Tools"
   ]
  },
  {
   "cell_type": "markdown",
   "metadata": {},
   "source": [
    "While there are **many** virtual environment tools (`virtualenv` & `pipenv` being the most popular in Python), I ***strongly*** encourage the use of `conda`."
   ]
  },
  {
   "cell_type": "markdown",
   "metadata": {},
   "source": [
    "That's right! `conda` isn't just a package manager. It also has the ability to *isolate* your project in its own environment **and** keep track of all the dependencies it relies on."
   ]
  },
  {
   "cell_type": "markdown",
   "metadata": {},
   "source": [
    "## Workshop"
   ]
  },
  {
   "cell_type": "markdown",
   "metadata": {},
   "source": [
    "### Making an environment"
   ]
  },
  {
   "cell_type": "code",
   "execution_count": null,
   "metadata": {},
   "outputs": [],
   "source": []
  },
  {
   "cell_type": "markdown",
   "metadata": {},
   "source": [
    "### Cloning an environment"
   ]
  },
  {
   "cell_type": "code",
   "execution_count": null,
   "metadata": {},
   "outputs": [],
   "source": []
  },
  {
   "cell_type": "markdown",
   "metadata": {},
   "source": [
    "### Listing the environments"
   ]
  },
  {
   "cell_type": "code",
   "execution_count": null,
   "metadata": {},
   "outputs": [],
   "source": []
  },
  {
   "cell_type": "markdown",
   "metadata": {},
   "source": [
    "### Removing an environment"
   ]
  },
  {
   "cell_type": "code",
   "execution_count": null,
   "metadata": {},
   "outputs": [],
   "source": []
  },
  {
   "cell_type": "markdown",
   "metadata": {},
   "source": [
    "### Activating the environment"
   ]
  },
  {
   "cell_type": "code",
   "execution_count": null,
   "metadata": {},
   "outputs": [],
   "source": []
  },
  {
   "cell_type": "markdown",
   "metadata": {},
   "source": [
    "### Getting the dependencies"
   ]
  },
  {
   "cell_type": "code",
   "execution_count": null,
   "metadata": {},
   "outputs": [],
   "source": []
  }
 ],
 "metadata": {
  "kernelspec": {
   "display_name": "Bash",
   "language": "bash",
   "name": "bash"
  },
  "language_info": {
   "codemirror_mode": "shell",
   "file_extension": ".sh",
   "mimetype": "text/x-sh",
   "name": "bash"
  }
 },
 "nbformat": 4,
 "nbformat_minor": 2
}
