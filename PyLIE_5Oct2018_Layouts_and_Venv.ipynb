{
 "cells": [
  {
   "cell_type": "markdown",
   "metadata": {},
   "source": [
    "# Project Structure and Virtual Environments"
   ]
  },
  {
   "cell_type": "markdown",
   "metadata": {},
   "source": [
    "## Overview\n",
    "1. PyLIE Introduction\n",
    "2. Project Structure\n",
    "    * Motivation\n",
    "    * Convention\n",
    "    * Shortcuts\n",
    "3. Virtual Environments\n",
    "    * Motivation\n",
    "    * Tools\n",
    "    * Workshop"
   ]
  },
  {
   "cell_type": "markdown",
   "metadata": {},
   "source": [
    "---"
   ]
  },
  {
   "cell_type": "markdown",
   "metadata": {},
   "source": [
    "# PyLIE Introduction"
   ]
  },
  {
   "cell_type": "markdown",
   "metadata": {},
   "source": [
    "### Ice Breaker:"
   ]
  },
  {
   "cell_type": "markdown",
   "metadata": {},
   "source": [
    "Tell the person sitting next to you both your name and your super power (if you don't have one, make one up)"
   ]
  },
  {
   "cell_type": "markdown",
   "metadata": {},
   "source": [
    "<center><img src=\"http://www.jmkxyy.com/shaking-hands-icon-png/shaking-hands-icon-png-1.jpg\" align=\"right\" width='300px'/></center>"
   ]
  },
  {
   "cell_type": "markdown",
   "metadata": {},
   "source": [
    "---"
   ]
  },
  {
   "cell_type": "markdown",
   "metadata": {},
   "source": [
    "## What is PyLIE?"
   ]
  },
  {
   "cell_type": "markdown",
   "metadata": {},
   "source": [
    "\n",
    "<center><img src='./figures/LIE.png' width='400px'/></center>"
   ]
  },
  {
   "cell_type": "markdown",
   "metadata": {},
   "source": [
    "**PyLIE** is the Python Languange Immersion & Education group"
   ]
  },
  {
   "cell_type": "markdown",
   "metadata": {},
   "source": [
    "The purpose of PyLIE is to instruct and instill coding *best practices*, good *coding habits*, and *technology evangelism*."
   ]
  },
  {
   "cell_type": "markdown",
   "metadata": {},
   "source": [
    "#### Some of the things we will cover:\n",
    "* Project layout \n",
    "* Virtual environments\n",
    "* Cloud computing\n",
    "* Continuous integration\n",
    "* Unit testing\n",
    "* Style guides\n",
    "* etc"
   ]
  },
  {
   "cell_type": "markdown",
   "metadata": {},
   "source": [
    "---"
   ]
  },
  {
   "cell_type": "markdown",
   "metadata": {},
   "source": [
    "# Project Layout"
   ]
  },
  {
   "cell_type": "markdown",
   "metadata": {},
   "source": [
    "<center><img src=\"http://cdn.osxdaily.com/wp-content/uploads/2015/01/nested-directory-structure-to-flatten.jpg\"/></center>"
   ]
  },
  {
   "cell_type": "markdown",
   "metadata": {},
   "source": [
    "## Motivation"
   ]
  },
  {
   "cell_type": "markdown",
   "metadata": {},
   "source": [
    "Directories are painful. If you don't think so, try to ask any professor about a PowerPoint they used 3 years ago... They have it, but they don't remember where. You can probably even look at your own 'Documents' folder for some good examples."
   ]
  },
  {
   "cell_type": "markdown",
   "metadata": {},
   "source": [
    "This becomes even more problematic when you are developing a coding project. This can be something as simple as an in-house program, or something you plan to share on [GitHub](https://www.github.com/)."
   ]
  },
  {
   "cell_type": "markdown",
   "metadata": {},
   "source": [
    "In my *opinion*, a good project layout precedes version control. Therefore, it is important to address it before we actually get into writing any code."
   ]
  },
  {
   "cell_type": "markdown",
   "metadata": {},
   "source": [
    "## Convention"
   ]
  },
  {
   "cell_type": "markdown",
   "metadata": {},
   "source": [
    "There are plenty of conventions out there for project layout, and many of them are dependent on what type of project you are writing. Since this is a Python group, we will be working off of a very minimal project layout:"
   ]
  },
  {
   "cell_type": "markdown",
   "metadata": {},
   "source": [
    "```bash\n",
    "my_project/         # This would be the folder you shortcut to\n",
    "|-docs/             # When we get around to documentation, all your stuff will go here\n",
    "|-tests/            # Unit tests and test suites for your code\n",
    "|-my_project/       # The actual project code\n",
    "|--|-__init__.py    # Makes your project detectable as a module\n",
    "|--|-core.py        # The basic core of your program\n",
    "|-setup.py          # This is used to install your program\n",
    "|-requirements.txt  # List of all your project's dependencies\n",
    "|-README.md         # EVERY project should have a readme\n",
    "|-LICENSE           # Without this, no one is technically allowed to use your code\n",
    "|-CONTRIBUTING.md   # If you want other people's help\n",
    "|-MANIFEST.ini      # Additional installation stuff\n",
    "```"
   ]
  },
  {
   "cell_type": "markdown",
   "metadata": {},
   "source": [
    "## Shortcuts"
   ]
  },
  {
   "cell_type": "markdown",
   "metadata": {},
   "source": [
    "The layout above is a *very* basic layout. Even then, however, it would be a pain to do by hand. Therefore there are some helpful shortcuts to getting it going."
   ]
  },
  {
   "cell_type": "markdown",
   "metadata": {},
   "source": [
    "### GitHub"
   ]
  },
  {
   "cell_type": "markdown",
   "metadata": {},
   "source": [
    "The quickest shortcut is when you create a GitHub repository. It will ask you what kind of license you want to use and if you want to initialize it with and *empty* README file."
   ]
  },
  {
   "cell_type": "markdown",
   "metadata": {},
   "source": [
    "<center><img src='./figures/github.png' width='450px'/></center>"
   ]
  },
  {
   "cell_type": "markdown",
   "metadata": {},
   "source": [
    "However, this kind of goes against what I just said...Project Layout should come *before* version control."
   ]
  },
  {
   "cell_type": "markdown",
   "metadata": {},
   "source": [
    "### Cookiecutter"
   ]
  },
  {
   "cell_type": "markdown",
   "metadata": {},
   "source": [
    "[Cookiecutter](https://github.com/audreyr/cookiecutter) is a Python package that allows users to define project *templates* ahead of time, then just use them to make project skeletons. What is best about `cookiecutter` is that you can use **any** published template."
   ]
  },
  {
   "cell_type": "code",
   "execution_count": 6,
   "metadata": {},
   "outputs": [
    {
     "name": "stdout",
     "output_type": "stream",
     "text": [
      "Collecting cookiecutter\n",
      "  Using cached https://files.pythonhosted.org/packages/16/99/1ca3a75978270288354f419e9166666801cf7e7d8df984de44a7d5d8b8d0/cookiecutter-1.6.0-py2.py3-none-any.whl\n",
      "Requirement already satisfied: future>=0.15.2 in /root/Downloads/pypy3-v5.10.1-linux64/site-packages (from cookiecutter) (0.16.0)\n",
      "Collecting binaryornot>=0.2.0 (from cookiecutter)\n",
      "  Using cached https://files.pythonhosted.org/packages/24/7e/f7b6f453e6481d1e233540262ccbfcf89adcd43606f44a028d7f5fae5eb2/binaryornot-0.4.4-py2.py3-none-any.whl\n",
      "Requirement already satisfied: jinja2>=2.7 in /root/Downloads/pypy3-v5.10.1-linux64/site-packages (from cookiecutter) (2.10)\n",
      "Collecting click>=5.0 (from cookiecutter)\n",
      "  Using cached https://files.pythonhosted.org/packages/fa/37/45185cb5abbc30d7257104c434fe0b07e5a195a6847506c074527aa599ec/Click-7.0-py2.py3-none-any.whl\n",
      "Collecting whichcraft>=0.4.0 (from cookiecutter)\n",
      "  Using cached https://files.pythonhosted.org/packages/60/8a/5c52e30e11672f7e3aa61f348ddae443d122bcd96bc8b785ac76dbae944b/whichcraft-0.4.1-py2.py3-none-any.whl\n",
      "Collecting poyo>=0.1.0 (from cookiecutter)\n",
      "  Using cached https://files.pythonhosted.org/packages/e0/16/e00e3001007a5e416ca6a51def6f9e4be6a774bf1c8486d20466f834d113/poyo-0.4.2-py2.py3-none-any.whl\n",
      "Collecting jinja2-time>=0.1.0 (from cookiecutter)\n",
      "  Using cached https://files.pythonhosted.org/packages/6a/a1/d44fa38306ffa34a7e1af09632b158e13ec89670ce491f8a15af3ebcb4e4/jinja2_time-0.2.0-py2.py3-none-any.whl\n",
      "Requirement already satisfied: requests>=2.18.0 in /root/Downloads/pypy3-v5.10.1-linux64/site-packages (from cookiecutter) (2.18.4)\n",
      "Requirement already satisfied: chardet>=3.0.2 in /root/Downloads/pypy3-v5.10.1-linux64/site-packages (from binaryornot>=0.2.0->cookiecutter) (3.0.4)\n",
      "Requirement already satisfied: MarkupSafe>=0.23 in /root/Downloads/pypy3-v5.10.1-linux64/site-packages (from jinja2>=2.7->cookiecutter) (1.0)\n",
      "Collecting arrow (from jinja2-time>=0.1.0->cookiecutter)\n",
      "Requirement already satisfied: certifi>=2017.4.17 in /root/Downloads/pypy3-v5.10.1-linux64/site-packages (from requests>=2.18.0->cookiecutter) (2018.4.16)\n",
      "Requirement already satisfied: idna<2.7,>=2.5 in /root/Downloads/pypy3-v5.10.1-linux64/site-packages (from requests>=2.18.0->cookiecutter) (2.6)\n",
      "Requirement already satisfied: urllib3<1.23,>=1.21.1 in /root/Downloads/pypy3-v5.10.1-linux64/site-packages (from requests>=2.18.0->cookiecutter) (1.22)\n",
      "Requirement already satisfied: python-dateutil in /root/Downloads/pypy3-v5.10.1-linux64/site-packages (from arrow->jinja2-time>=0.1.0->cookiecutter) (2.7.2)\n",
      "Requirement already satisfied: six>=1.5 in /root/Downloads/pypy3-v5.10.1-linux64/site-packages (from python-dateutil->arrow->jinja2-time>=0.1.0->cookiecutter) (1.11.0)\n",
      "Installing collected packages: binaryornot, click, whichcraft, poyo, arrow, jinja2-time, cookiecutter\n",
      "Successfully installed arrow-0.12.1 binaryornot-0.4.4 click-7.0 cookiecutter-1.6.0 jinja2-time-0.2.0 poyo-0.4.2 whichcraft-0.4.1\n",
      "\u001b[33mYou are using pip version 18.0, however version 18.1 is available.\n",
      "You should consider upgrading via the 'pip install --upgrade pip' command.\u001b[0m\n"
     ]
    }
   ],
   "source": [
    "# Install\n",
    "pip install --user cookiecutter # do NOT use conda"
   ]
  },
  {
   "cell_type": "code",
   "execution_count": null,
   "metadata": {},
   "outputs": [],
   "source": [
    "# Linux & MacOS\n",
    "echo 'export PATH=~/.local/bin:$PATH' >> ~/.bashrc && source ~/.bashrc"
   ]
  },
  {
   "cell_type": "markdown",
   "metadata": {},
   "source": [
    "**Windows**\n",
    "1. Control Panel > System and Security > System > Advanced system settings > Environment Variables...\n",
    "2. Double-click 'Path' under 'User variables for \\<username\\>'\n",
    "3. Click 'New'\n",
    "4. add %APPDATA%\\Anaconda3\\Scripts"
   ]
  },
  {
   "cell_type": "markdown",
   "metadata": {},
   "source": [
    "Now, just navigate to your project's root directory..."
   ]
  },
  {
   "cell_type": "code",
   "execution_count": 7,
   "metadata": {},
   "outputs": [],
   "source": [
    "cd"
   ]
  },
  {
   "cell_type": "code",
   "execution_count": 8,
   "metadata": {},
   "outputs": [
    {
     "name": "stdout",
     "output_type": "stream",
     "text": [
      "\u001b[0m\u001b[01;38;5;223mDownloads\u001b[0m/        \u001b[48;5;234;38;5;180msrc\u001b[0m/       copied_bash    dat.tsv        \u001b[01;38;5;187mimport_ex.py\u001b[0m\n",
      "\u001b[48;5;234;38;5;180mminiconda3\u001b[0m/       \u001b[48;5;234;38;5;180mtest_dir\u001b[0m/  \u001b[00;38;5;151mcoverage.bash\u001b[0m  \u001b[48;5;234;38;5;223mDesktop\u001b[0m@       \u001b[01;38;5;187mtemplate.py\u001b[0m\n",
      "\u001b[48;5;234;38;5;180m__pycache__\u001b[0m/      \u001b[48;5;234;38;5;223mc\u001b[0m@         \u001b[00;38;5;151mcoverage.sh\u001b[0m    \u001b[48;5;234;38;5;187mDropbox\u001b[0m@       \u001b[04;38;5;188muntitled.txt\u001b[0m\n",
      "\u001b[48;5;234;38;5;180mpython_tutorial\u001b[0m/  \u001b[48;5;234;38;5;223mC\u001b[0m@         \u001b[48;5;234;38;5;223mD\u001b[0m@             fake_data.tsv\n"
     ]
    }
   ],
   "source": [
    "ls"
   ]
  },
  {
   "cell_type": "code",
   "execution_count": 9,
   "metadata": {},
   "outputs": [],
   "source": [
    "cd /mnt/d/MDS/"
   ]
  },
  {
   "cell_type": "code",
   "execution_count": 11,
   "metadata": {},
   "outputs": [],
   "source": [
    "mkdir testing_cutter\n",
    "cd testing_cutter"
   ]
  },
  {
   "cell_type": "code",
   "execution_count": 12,
   "metadata": {},
   "outputs": [
    {
     "name": "stdout",
     "output_type": "stream",
     "text": [
      "/mnt/d/MDS/testing_cutter\n"
     ]
    }
   ],
   "source": [
    "pwd"
   ]
  },
  {
   "cell_type": "markdown",
   "metadata": {},
   "source": [
    "... and type the following command and follow the prompts:"
   ]
  },
  {
   "cell_type": "code",
   "execution_count": 13,
   "metadata": {},
   "outputs": [
    {
     "name": "stdout",
     "output_type": "stream",
     "text": [
      "You've downloaded /root/.cookiecutters/cookiecutter-minimal before. Is it okay to delete and re-download it? [yes]: Aborted!\n"
     ]
    }
   ],
   "source": [
    "cookiecutter https://github.com/betteridiot/cookiecutter-minimal.git"
   ]
  },
  {
   "cell_type": "markdown",
   "metadata": {},
   "source": [
    "Now we have a *basic* project layout ready to go. The only things we need to do to it is:\n",
    "* Write our README.md\n",
    "* Fill in requirements.txt\n",
    "* Change the year on our LICENSE\n",
    "* Write our code"
   ]
  },
  {
   "cell_type": "markdown",
   "metadata": {},
   "source": [
    "---"
   ]
  },
  {
   "cell_type": "markdown",
   "metadata": {},
   "source": [
    "# Virtual Environments"
   ]
  },
  {
   "cell_type": "markdown",
   "metadata": {},
   "source": [
    "<center><img src='https://cdn.cambridgevillageofapex.com/wp-content/uploads/2017/04/social-isolation-apex-nc.jpg' width='600px' /></center> "
   ]
  },
  {
   "cell_type": "markdown",
   "metadata": {},
   "source": [
    "## Motivation"
   ]
  },
  {
   "cell_type": "markdown",
   "metadata": {},
   "source": [
    "One of the biggest issues in software development is called *dependency hell*. This is when something your program may depend on depends on something else (which depends on someting else)...but your program may only 'know' about the first level of dependencies.  "
   ]
  },
  {
   "cell_type": "markdown",
   "metadata": {},
   "source": [
    "Everytime a user does a `pip install this` or `conda install that`, they are potentially \"polluting\" their project's dependencies. To fix this, we use virtual environments."
   ]
  },
  {
   "cell_type": "markdown",
   "metadata": {},
   "source": [
    "## Tools"
   ]
  },
  {
   "cell_type": "markdown",
   "metadata": {},
   "source": [
    "While there are **many** virtual environment tools (`virtualenv` & `pipenv` being the most popular in Python), I ***strongly*** encourage the use of `conda`."
   ]
  },
  {
   "cell_type": "markdown",
   "metadata": {},
   "source": [
    "That's right! `conda` isn't just a package manager. It also has the ability to *isolate* your project in its own environment **and** keep track of all the dependencies it relies on."
   ]
  },
  {
   "cell_type": "markdown",
   "metadata": {},
   "source": [
    "## Workshop"
   ]
  },
  {
   "cell_type": "markdown",
   "metadata": {},
   "source": [
    "### Making an environment"
   ]
  },
  {
   "cell_type": "code",
   "execution_count": null,
   "metadata": {},
   "outputs": [],
   "source": []
  },
  {
   "cell_type": "markdown",
   "metadata": {},
   "source": [
    "### Cloning an environment"
   ]
  },
  {
   "cell_type": "code",
   "execution_count": null,
   "metadata": {},
   "outputs": [],
   "source": []
  },
  {
   "cell_type": "markdown",
   "metadata": {},
   "source": [
    "### Listing the environments"
   ]
  },
  {
   "cell_type": "code",
   "execution_count": null,
   "metadata": {},
   "outputs": [],
   "source": []
  },
  {
   "cell_type": "markdown",
   "metadata": {},
   "source": [
    "### Removing an environment"
   ]
  },
  {
   "cell_type": "code",
   "execution_count": null,
   "metadata": {},
   "outputs": [],
   "source": []
  },
  {
   "cell_type": "markdown",
   "metadata": {},
   "source": [
    "### Activating the environment"
   ]
  },
  {
   "cell_type": "code",
   "execution_count": null,
   "metadata": {},
   "outputs": [],
   "source": []
  },
  {
   "cell_type": "markdown",
   "metadata": {},
   "source": [
    "### Getting the dependencies"
   ]
  },
  {
   "cell_type": "code",
   "execution_count": null,
   "metadata": {},
   "outputs": [],
   "source": []
  }
 ],
 "metadata": {
  "kernelspec": {
   "display_name": "Bash",
   "language": "bash",
   "name": "bash"
  },
  "language_info": {
   "codemirror_mode": "shell",
   "file_extension": ".sh",
   "mimetype": "text/x-sh",
   "name": "bash"
  }
 },
 "nbformat": 4,
 "nbformat_minor": 2
}
