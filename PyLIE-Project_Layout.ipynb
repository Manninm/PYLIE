{
 "cells": [
  {
   "cell_type": "code",
   "execution_count": 4,
   "metadata": {
    "slideshow": {
     "slide_type": "skip"
    }
   },
   "outputs": [
    {
     "data": {
      "text/html": [
       "<style>\n",
       "#title {\n",
       "    font-size: 200%;\n",
       "    font-weight: bold;\n",
       "    text-align: center;\n",
       "    line-height: 150%;\n",
       "}\n",
       "h1 {\n",
       "    text-align: center;\n",
       "    font-weight: bold;\n",
       "    line-height: 150%;\n",
       "}\n",
       ".presentFont {\n",
       "    font-family: \"Times\";\n",
       "}\n",
       "h1.eastwood {\n",
       "    color: #304AAB;\n",
       "    text-align: left;\n",
       "}\n",
       "code { \n",
       "    background-color: gray; color: blue;\n",
       "}\n",
       "\n",
       "</style>"
      ],
      "text/plain": [
       "<IPython.core.display.HTML object>"
      ]
     },
     "metadata": {},
     "output_type": "display_data"
    }
   ],
   "source": [
    "%%html\n",
    "<style>\n",
    "#title {\n",
    "    font-size: 200%;\n",
    "    font-weight: bold;\n",
    "    text-align: center;\n",
    "    line-height: 150%;\n",
    "}\n",
    "h1 {\n",
    "    text-align: center;\n",
    "    font-weight: bold;\n",
    "    line-height: 150%;\n",
    "}\n",
    ".presentFont {\n",
    "    font-family: \"Times\";\n",
    "}\n",
    "h1.eastwood {\n",
    "    color: #304AAB;\n",
    "    text-align: left;\n",
    "}\n",
    "</style>"
   ]
  },
  {
   "cell_type": "markdown",
   "metadata": {
    "slideshow": {
     "slide_type": "slide"
    }
   },
   "source": [
    "<p id=\"title\" class=\"presentFont\">PyLIE<br>3 Oct. 2017<br>Project Layout and Version Control\n",
    "</p>"
   ]
  },
  {
   "cell_type": "markdown",
   "metadata": {
    "slideshow": {
     "slide_type": "slide"
    }
   },
   "source": [
    "<h1 class=\"presentFont\">Boring Definitions</h1>\n",
    "<p id=\"intro\" class=\"presentFont\"><b>Project Layout:</b> the folder structure of any programming project/module<br>\n",
    "<b>Version Control:</b> supplementary service that keeps track of many different versions of software, content, documents, websites and other information in development.\n",
    "</p>"
   ]
  },
  {
   "cell_type": "markdown",
   "metadata": {
    "slideshow": {
     "slide_type": "subslide"
    }
   },
   "source": [
    "<h1 class=\"presentText eastwood\">Bad</h1>\n",
    "```sh\n",
    ".\n",
    "├──foo.py\n",
    "├──foo1.py\n",
    "├──foo_final_PI.py\n",
    "├──foo_git.py\n",
    "├──foo_extension.py\n",
    "```"
   ]
  },
  {
   "cell_type": "markdown",
   "metadata": {
    "slideshow": {
     "slide_type": "fragment"
    }
   },
   "source": [
    "Why is this bad?"
   ]
  },
  {
   "cell_type": "markdown",
   "metadata": {
    "slideshow": {
     "slide_type": "subslide"
    }
   },
   "source": [
    "<h1 class=\"presentText eastwood\">Good</h1>\n",
    "```sh\n",
    ".\n",
    "├──__init__.py\n",
    "├──foo.py\n",
    "```"
   ]
  },
  {
   "cell_type": "markdown",
   "metadata": {
    "slideshow": {
     "slide_type": "fragment"
    }
   },
   "source": [
    "`__init__.py` is placed within the folder so that Python can `import` the script."
   ]
  },
  {
   "cell_type": "markdown",
   "metadata": {
    "slideshow": {
     "slide_type": "subslide"
    }
   },
   "source": [
    "<h1 class=\"presentText eastwood\">Better</h1>\n",
    "```sh\n",
    ".\n",
    "├──foo/\n",
    "│  ├──__init__.py\n",
    "│  ├──foo.py\n",
    "│  ├──extension/\n",
    "│  │  ├──__init__.py\n",
    "│  │  ├──extenstion.py\n",
    "├──docs/\n",
    "│  ├──documentation.rst\n",
    "│  ├──subModule_documentation.rst\n",
    "├──test/\n",
    "│  ├──test_basic.py\n",
    "│  ├──test_advanced.py\n",
    "├──requirement.py\n",
    "├──setup.py\n",
    "├──README.md\n",
    "├──LICENSE\n",
    "```"
   ]
  },
  {
   "cell_type": "markdown",
   "metadata": {
    "collapsed": true,
    "slideshow": {
     "slide_type": "slide"
    }
   },
   "source": [
    "<h1 class=\"presentText\">One at a time</h1>"
   ]
  },
  {
   "cell_type": "markdown",
   "metadata": {
    "slideshow": {
     "slide_type": "fragment"
    }
   },
   "source": [
    "<p class=\"presentFont fragment\"><code>`.`</code> is your current working directory (obviously). However, in this case, let's call it <code>`foo/`</code> since that is the project we are working on."
   ]
  },
  {
   "cell_type": "markdown",
   "metadata": {
    "slideshow": {
     "slide_type": "fragment"
    }
   },
   "source": [
    "Why do you think we would have a `foo/foo/` then?"
   ]
  },
  {
   "cell_type": "markdown",
   "metadata": {
    "slideshow": {
     "slide_type": "fragment"
    }
   },
   "source": [
    "`foo/` is your project directory, while `foo/foo/` is your module directory. By keeping things encapsulated like this allows for tighter control on each of the component parts of the project, while protecting the more static elements like `LICENSE` and `README.md`."
   ]
  },
  {
   "cell_type": "markdown",
   "metadata": {
    "slideshow": {
     "slide_type": "subslide"
    }
   },
   "source": [
    "`foo/foo/extension/` allows a user to further develop holistic modules. As such, one can now import submodules. An example of this is"
   ]
  },
  {
   "cell_type": "code",
   "execution_count": 3,
   "metadata": {
    "collapsed": true,
    "hidePrompt": true,
    "slideshow": {
     "slide_type": "fragment"
    }
   },
   "outputs": [],
   "source": [
    "from multiprocessing.pool import Pool"
   ]
  },
  {
   "cell_type": "markdown",
   "metadata": {
    "slideshow": {
     "slide_type": "slide"
    }
   },
   "source": [
    "<h1 class=\"presentFont\">Live Demo</h1>"
   ]
  },
  {
   "cell_type": "markdown",
   "metadata": {
    "slideshow": {
     "slide_type": "slide"
    }
   },
   "source": [
    "<h1 class=\"presentFont\">The rest of the stuff</h1>"
   ]
  },
  {
   "cell_type": "markdown",
   "metadata": {
    "slideshow": {
     "slide_type": "fragment"
    }
   },
   "source": [
    "`foo/docs/` is the main repository for your project documentation. If your code has proper docstrings, we can use a tool called Sphinx to auto-generate a majority of this information."
   ]
  },
  {
   "cell_type": "markdown",
   "metadata": {
    "slideshow": {
     "slide_type": "fragment"
    }
   },
   "source": [
    "`foo/test/`, for the purposes of this workshop, will be generated solely for the next workshop: Test Framework. "
   ]
  },
  {
   "cell_type": "code",
   "execution_count": 5,
   "metadata": {},
   "outputs": [
    {
     "name": "stdout",
     "output_type": "stream",
     "text": [
      "The slowest run took 846.09 times longer than the fastest. This could mean that an intermediate result is being cached.\n",
      "10000000 loops, best of 3: 123 ns per loop\n"
     ]
    }
   ],
   "source": [
    "%%timeit\n",
    "import pandas as pd"
   ]
  },
  {
   "cell_type": "code",
   "execution_count": null,
   "metadata": {
    "collapsed": true
   },
   "outputs": [],
   "source": [
    "from numpy import *\n",
    "import numpy"
   ]
  }
 ],
 "metadata": {
  "celltoolbar": "Slideshow",
  "kernelspec": {
   "display_name": "Python 3",
   "language": "python",
   "name": "python3"
  },
  "language_info": {
   "codemirror_mode": {
    "name": "ipython",
    "version": 3
   },
   "file_extension": ".py",
   "mimetype": "text/x-python",
   "name": "python",
   "nbconvert_exporter": "python",
   "pygments_lexer": "ipython3",
   "version": "3.6.1"
  },
  "livereveal": {
   "scroll": "true",
   "transition": "fade"
  }
 },
 "nbformat": 4,
 "nbformat_minor": 2
}
