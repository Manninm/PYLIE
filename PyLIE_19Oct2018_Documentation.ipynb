{
 "cells": [
  {
   "cell_type": "code",
   "execution_count": 2,
   "metadata": {},
   "outputs": [],
   "source": [
    "import os"
   ]
  },
  {
   "cell_type": "code",
   "execution_count": 3,
   "metadata": {},
   "outputs": [],
   "source": [
    "os.chdir('/mnt/d/MDS/GitHub/')"
   ]
  },
  {
   "cell_type": "code",
   "execution_count": 1,
   "metadata": {},
   "outputs": [],
   "source": [
    "import pandas as pd"
   ]
  },
  {
   "cell_type": "code",
   "execution_count": 4,
   "metadata": {},
   "outputs": [],
   "source": [
    "from collections import Counter"
   ]
  },
  {
   "cell_type": "code",
   "execution_count": 5,
   "metadata": {},
   "outputs": [],
   "source": [
    "features = Counter()\n",
    "with open('./homo_sapiens.GRCh38.Regulatory_Build.regulatory_features.20161111.gff') as gff:\n",
    "    for line in gff:\n",
    "        features.update({line.strip().split('\\t')[-1].split(';')[-1].split('=')[-1]})"
   ]
  },
  {
   "cell_type": "code",
   "execution_count": 6,
   "metadata": {},
   "outputs": [],
   "source": [
    "from pprint import pprint as print"
   ]
  },
  {
   "cell_type": "code",
   "execution_count": 8,
   "metadata": {},
   "outputs": [
    {
     "name": "stdout",
     "output_type": "stream",
     "text": [
      "Counter({'Open chromatin': 129294,\n",
      "         'CTCF Binding Site': 92171,\n",
      "         'Promoter Flanking Region': 45706,\n",
      "         'Enhancer': 36452,\n",
      "         'TF binding site': 21922,\n",
      "         'Promoter': 16384})\n"
     ]
    }
   ],
   "source": [
    "print(features)"
   ]
  },
  {
   "cell_type": "markdown",
   "metadata": {},
   "source": [
    "# Documentation and Testing"
   ]
  },
  {
   "cell_type": "markdown",
   "metadata": {},
   "source": [
    "---\n",
    "## Documentation"
   ]
  },
  {
   "cell_type": "markdown",
   "metadata": {},
   "source": [
    "**Purpose:** to inform developers/users ***how*** and ***why*** the program is used."
   ]
  },
  {
   "cell_type": "markdown",
   "metadata": {},
   "source": [
    "What are some different types of documentation used within a project?"
   ]
  },
  {
   "cell_type": "markdown",
   "metadata": {},
   "source": [
    "1. docstrings\n",
    "* inline comments\n",
    "* examples\n",
    "* README\n",
    "* documentation website"
   ]
  },
  {
   "cell_type": "markdown",
   "metadata": {},
   "source": [
    "### The most basic form of documentation: inline commenting"
   ]
  },
  {
   "cell_type": "markdown",
   "metadata": {},
   "source": [
    "**Purpose:** to clarify some complex or complicated code to developers"
   ]
  },
  {
   "cell_type": "markdown",
   "metadata": {},
   "source": [
    "#### Examples"
   ]
  },
  {
   "cell_type": "code",
   "execution_count": null,
   "metadata": {},
   "outputs": [],
   "source": [
    "# Bad\n",
    "a_list = []\n",
    "\n",
    "# Append to list\n",
    "a_list.append(i)"
   ]
  },
  {
   "cell_type": "code",
   "execution_count": 3,
   "metadata": {},
   "outputs": [],
   "source": [
    "# Good\n",
    "a = 3\n",
    "b = 2\n",
    "# Euclidean distance\n",
    "\n",
    "# Comparing sample vs control across 17 subdomain\n",
    "z = (a**2 + b**2)**0.5"
   ]
  },
  {
   "cell_type": "markdown",
   "metadata": {},
   "source": [
    "### The most underused form of documentation: docstrings"
   ]
  },
  {
   "cell_type": "markdown",
   "metadata": {},
   "source": [
    "**Purpose:** to teach end-users 3 things: 1) what the code expects, 2) what the code generates, and 3) how to use the code."
   ]
  },
  {
   "cell_type": "markdown",
   "metadata": {},
   "source": [
    "---\n",
    "#### 3-4 levels of docstring types\n",
    "All docstrings start on the first line following the item they explain."
   ]
  },
  {
   "cell_type": "markdown",
   "metadata": {},
   "source": [
    "##### **Module-level**"
   ]
  },
  {
   "cell_type": "markdown",
   "metadata": {},
   "source": [
    "This is at the very top of a script, just below the shebang and compatibility imports, but just above basic imports"
   ]
  },
  {
   "cell_type": "code",
   "execution_count": 6,
   "metadata": {},
   "outputs": [
    {
     "data": {
      "text/plain": [
       "0.3333333333333333"
      ]
     },
     "execution_count": 6,
     "metadata": {},
     "output_type": "execute_result"
    }
   ],
   "source": [
    "1/3"
   ]
  },
  {
   "cell_type": "markdown",
   "metadata": {},
   "source": [
    "```python\n",
    "\"\"\"Short description of the module\n",
    "\n",
    "Longer description if needed\n",
    "\n",
    "Attributes:\n",
    "    attr_name (attr_type): attr description\n",
    "\n",
    "Usage Examples:\n",
    "    python script_name.py [<args>]\n",
    "\"\"\"\n",
    "import six\n",
    "import sys\n",
    "import os\n",
    "import numpy as np\n",
    "import pandas as pd\n",
    "import matplotlib.pyplot as plt\n",
    "```"
   ]
  },
  {
   "cell_type": "markdown",
   "metadata": {},
   "source": [
    "##### **Function-level**"
   ]
  },
  {
   "cell_type": "markdown",
   "metadata": {},
   "source": [
    "Used to describe a function's purpose, expected behavior, and I/O"
   ]
  },
  {
   "cell_type": "code",
   "execution_count": 7,
   "metadata": {},
   "outputs": [],
   "source": [
    "def foo(arg1:str, arg2: int) -> list:\n",
    "    \"\"\"Short description of function\n",
    "    \n",
    "    Longer description of needed\n",
    "    \n",
    "    Args:\n",
    "        arg1 (str): description of argument\n",
    "        arg2 (int): description of argument\n",
    "    \n",
    "    Returns (or Yields if a generator):\n",
    "        some_list (list): description of output\n",
    "    \n",
    "    Raises:\n",
    "        AssertionError: if the code doesn't work right\n",
    "        SyntaxError: if the user put in the wrong type of arguments\n",
    "    \n",
    "    Examples:\n",
    "        >>> foo\n",
    "    \"\"\"\n",
    "    code_goes = 'here'\n"
   ]
  },
  {
   "cell_type": "code",
   "execution_count": 8,
   "metadata": {},
   "outputs": [
    {
     "name": "stdout",
     "output_type": "stream",
     "text": [
      "Help on function foo in module __main__:\n",
      "\n",
      "foo(arg1: str, arg2: int) -> list\n",
      "    Short description of function\n",
      "    \n",
      "    Longer description of needed\n",
      "    \n",
      "    Args:\n",
      "        arg1 (str): description of argument\n",
      "        arg2 (int): description of argument\n",
      "    \n",
      "    Returns (or Yields if a generator):\n",
      "        some_list (list): description of output\n",
      "    \n",
      "    Raises:\n",
      "        AssertionError: if the code doesn't work right\n",
      "        SyntaxError: if the user put in the wrong type of arguments\n",
      "\n"
     ]
    }
   ],
   "source": [
    "help(foo)"
   ]
  },
  {
   "cell_type": "markdown",
   "metadata": {},
   "source": [
    "##### **Class-level**"
   ]
  },
  {
   "cell_type": "markdown",
   "metadata": {},
   "source": [
    "Used to describe a class object and all of its attributes"
   ]
  },
  {
   "cell_type": "markdown",
   "metadata": {},
   "source": [
    "```python\n",
    "class Pokemon:\n",
    "    \"\"\"Short description of class object\n",
    "    \n",
    "    Longer description of needed\n",
    "    \n",
    "    Attributes:\n",
    "        ...\n",
    "    \"\"\"\n",
    "    def __init__(self, a: str, b: int) -> None:\n",
    "        ...\n",
    "```"
   ]
  },
  {
   "cell_type": "markdown",
   "metadata": {},
   "source": [
    "##### **Attribute/constant-level** (optional)"
   ]
  },
  {
   "cell_type": "markdown",
   "metadata": {},
   "source": [
    "Used if the author feels like a specific constant or global attribute needs to be explained further"
   ]
  },
  {
   "cell_type": "code",
   "execution_count": 9,
   "metadata": {},
   "outputs": [
    {
     "data": {
      "text/plain": [
       "'Description of Constant'"
      ]
     },
     "execution_count": 9,
     "metadata": {},
     "output_type": "execute_result"
    }
   ],
   "source": [
    "_SOME_CONST = 1e16\n",
    "\"\"\"Description of Constant\"\"\""
   ]
  },
  {
   "cell_type": "markdown",
   "metadata": {},
   "source": [
    "**Note:** If docstrings are done correctly, very little overhead is required to produce quality auto-generated documentation (`sphinx`)"
   ]
  },
  {
   "cell_type": "markdown",
   "metadata": {},
   "source": [
    "### The most improperly used form of documentation: README"
   ]
  },
  {
   "cell_type": "markdown",
   "metadata": {},
   "source": [
    "**Purpose:** to quickly show both users and developers how to install/setup the code, run test suites (if available), and quickstart information."
   ]
  },
  {
   "cell_type": "markdown",
   "metadata": {},
   "source": [
    "### The cutting edge form of documentation: Hosted documentation websites"
   ]
  },
  {
   "cell_type": "markdown",
   "metadata": {},
   "source": [
    "**Purpose:** to provide detailed code documentation, FAQ's, common practices, examples, contact information, etc."
   ]
  },
  {
   "cell_type": "markdown",
   "metadata": {},
   "source": [
    "---\n",
    "## Testing"
   ]
  },
  {
   "cell_type": "code",
   "execution_count": null,
   "metadata": {},
   "outputs": [],
   "source": []
  }
 ],
 "metadata": {
  "kernelspec": {
   "display_name": "Python 3",
   "language": "python",
   "name": "python3"
  },
  "language_info": {
   "codemirror_mode": {
    "name": "ipython",
    "version": 3
   },
   "file_extension": ".py",
   "mimetype": "text/x-python",
   "name": "python",
   "nbconvert_exporter": "python",
   "pygments_lexer": "ipython3",
   "version": "3.7.0"
  }
 },
 "nbformat": 4,
 "nbformat_minor": 2
}
